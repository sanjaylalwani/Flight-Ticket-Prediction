{
  "nbformat": 4,
  "nbformat_minor": 0,
  "metadata": {
    "colab": {
      "name": "FlightTicketP.ipynb",
      "provenance": [],
      "collapsed_sections": [
        "U47VWYXi_cE8"
      ]
    },
    "kernelspec": {
      "name": "python3",
      "display_name": "Python 3"
    },
    "language_info": {
      "name": "python"
    }
  },
  "cells": [
    {
      "cell_type": "markdown",
      "metadata": {
        "id": "U47VWYXi_cE8"
      },
      "source": [
        "# Basic Data"
      ]
    },
    {
      "cell_type": "code",
      "metadata": {
        "id": "wLpEwS0jUbP6"
      },
      "source": [
        "import pandas as pd\n",
        "import numpy as np"
      ],
      "execution_count": 1,
      "outputs": []
    },
    {
      "cell_type": "code",
      "metadata": {
        "id": "Fy4O3s2FX2O9"
      },
      "source": [
        "train = pd.read_excel('Data_Train.xlsx')\n",
        "test = pd.read_excel('Test_set.xlsx')"
      ],
      "execution_count": 2,
      "outputs": []
    },
    {
      "cell_type": "code",
      "metadata": {
        "id": "8jKEjCGmYe-K",
        "colab": {
          "base_uri": "https://localhost:8080/"
        },
        "outputId": "e257e1dc-b39c-4182-c674-c43acebbb01b"
      },
      "source": [
        "train.info()"
      ],
      "execution_count": 3,
      "outputs": [
        {
          "output_type": "stream",
          "name": "stdout",
          "text": [
            "<class 'pandas.core.frame.DataFrame'>\n",
            "RangeIndex: 10683 entries, 0 to 10682\n",
            "Data columns (total 11 columns):\n",
            " #   Column           Non-Null Count  Dtype \n",
            "---  ------           --------------  ----- \n",
            " 0   Airline          10683 non-null  object\n",
            " 1   Date_of_Journey  10683 non-null  object\n",
            " 2   Source           10683 non-null  object\n",
            " 3   Destination      10683 non-null  object\n",
            " 4   Route            10682 non-null  object\n",
            " 5   Dep_Time         10683 non-null  object\n",
            " 6   Arrival_Time     10683 non-null  object\n",
            " 7   Duration         10683 non-null  object\n",
            " 8   Total_Stops      10682 non-null  object\n",
            " 9   Additional_Info  10683 non-null  object\n",
            " 10  Price            10683 non-null  int64 \n",
            "dtypes: int64(1), object(10)\n",
            "memory usage: 918.2+ KB\n"
          ]
        }
      ]
    },
    {
      "cell_type": "code",
      "metadata": {
        "id": "en40ynRmYkWl",
        "colab": {
          "base_uri": "https://localhost:8080/",
          "height": 0
        },
        "outputId": "a45ee557-5b69-4e74-cb3c-cc3932c5e5dc"
      },
      "source": [
        "train.head(5)"
      ],
      "execution_count": 4,
      "outputs": [
        {
          "output_type": "execute_result",
          "data": {
            "text/html": [
              "\n",
              "  <div id=\"df-084b65ae-00c8-4a27-8f47-df1164fbb8c6\">\n",
              "    <div class=\"colab-df-container\">\n",
              "      <div>\n",
              "<style scoped>\n",
              "    .dataframe tbody tr th:only-of-type {\n",
              "        vertical-align: middle;\n",
              "    }\n",
              "\n",
              "    .dataframe tbody tr th {\n",
              "        vertical-align: top;\n",
              "    }\n",
              "\n",
              "    .dataframe thead th {\n",
              "        text-align: right;\n",
              "    }\n",
              "</style>\n",
              "<table border=\"1\" class=\"dataframe\">\n",
              "  <thead>\n",
              "    <tr style=\"text-align: right;\">\n",
              "      <th></th>\n",
              "      <th>Airline</th>\n",
              "      <th>Date_of_Journey</th>\n",
              "      <th>Source</th>\n",
              "      <th>Destination</th>\n",
              "      <th>Route</th>\n",
              "      <th>Dep_Time</th>\n",
              "      <th>Arrival_Time</th>\n",
              "      <th>Duration</th>\n",
              "      <th>Total_Stops</th>\n",
              "      <th>Additional_Info</th>\n",
              "      <th>Price</th>\n",
              "    </tr>\n",
              "  </thead>\n",
              "  <tbody>\n",
              "    <tr>\n",
              "      <th>0</th>\n",
              "      <td>IndiGo</td>\n",
              "      <td>24/03/2019</td>\n",
              "      <td>Banglore</td>\n",
              "      <td>New Delhi</td>\n",
              "      <td>BLR → DEL</td>\n",
              "      <td>22:20</td>\n",
              "      <td>01:10 22 Mar</td>\n",
              "      <td>2h 50m</td>\n",
              "      <td>non-stop</td>\n",
              "      <td>No info</td>\n",
              "      <td>3897</td>\n",
              "    </tr>\n",
              "    <tr>\n",
              "      <th>1</th>\n",
              "      <td>Air India</td>\n",
              "      <td>1/05/2019</td>\n",
              "      <td>Kolkata</td>\n",
              "      <td>Banglore</td>\n",
              "      <td>CCU → IXR → BBI → BLR</td>\n",
              "      <td>05:50</td>\n",
              "      <td>13:15</td>\n",
              "      <td>7h 25m</td>\n",
              "      <td>2 stops</td>\n",
              "      <td>No info</td>\n",
              "      <td>7662</td>\n",
              "    </tr>\n",
              "    <tr>\n",
              "      <th>2</th>\n",
              "      <td>Jet Airways</td>\n",
              "      <td>9/06/2019</td>\n",
              "      <td>Delhi</td>\n",
              "      <td>Cochin</td>\n",
              "      <td>DEL → LKO → BOM → COK</td>\n",
              "      <td>09:25</td>\n",
              "      <td>04:25 10 Jun</td>\n",
              "      <td>19h</td>\n",
              "      <td>2 stops</td>\n",
              "      <td>No info</td>\n",
              "      <td>13882</td>\n",
              "    </tr>\n",
              "    <tr>\n",
              "      <th>3</th>\n",
              "      <td>IndiGo</td>\n",
              "      <td>12/05/2019</td>\n",
              "      <td>Kolkata</td>\n",
              "      <td>Banglore</td>\n",
              "      <td>CCU → NAG → BLR</td>\n",
              "      <td>18:05</td>\n",
              "      <td>23:30</td>\n",
              "      <td>5h 25m</td>\n",
              "      <td>1 stop</td>\n",
              "      <td>No info</td>\n",
              "      <td>6218</td>\n",
              "    </tr>\n",
              "    <tr>\n",
              "      <th>4</th>\n",
              "      <td>IndiGo</td>\n",
              "      <td>01/03/2019</td>\n",
              "      <td>Banglore</td>\n",
              "      <td>New Delhi</td>\n",
              "      <td>BLR → NAG → DEL</td>\n",
              "      <td>16:50</td>\n",
              "      <td>21:35</td>\n",
              "      <td>4h 45m</td>\n",
              "      <td>1 stop</td>\n",
              "      <td>No info</td>\n",
              "      <td>13302</td>\n",
              "    </tr>\n",
              "  </tbody>\n",
              "</table>\n",
              "</div>\n",
              "      <button class=\"colab-df-convert\" onclick=\"convertToInteractive('df-084b65ae-00c8-4a27-8f47-df1164fbb8c6')\"\n",
              "              title=\"Convert this dataframe to an interactive table.\"\n",
              "              style=\"display:none;\">\n",
              "        \n",
              "  <svg xmlns=\"http://www.w3.org/2000/svg\" height=\"24px\"viewBox=\"0 0 24 24\"\n",
              "       width=\"24px\">\n",
              "    <path d=\"M0 0h24v24H0V0z\" fill=\"none\"/>\n",
              "    <path d=\"M18.56 5.44l.94 2.06.94-2.06 2.06-.94-2.06-.94-.94-2.06-.94 2.06-2.06.94zm-11 1L8.5 8.5l.94-2.06 2.06-.94-2.06-.94L8.5 2.5l-.94 2.06-2.06.94zm10 10l.94 2.06.94-2.06 2.06-.94-2.06-.94-.94-2.06-.94 2.06-2.06.94z\"/><path d=\"M17.41 7.96l-1.37-1.37c-.4-.4-.92-.59-1.43-.59-.52 0-1.04.2-1.43.59L10.3 9.45l-7.72 7.72c-.78.78-.78 2.05 0 2.83L4 21.41c.39.39.9.59 1.41.59.51 0 1.02-.2 1.41-.59l7.78-7.78 2.81-2.81c.8-.78.8-2.07 0-2.86zM5.41 20L4 18.59l7.72-7.72 1.47 1.35L5.41 20z\"/>\n",
              "  </svg>\n",
              "      </button>\n",
              "      \n",
              "  <style>\n",
              "    .colab-df-container {\n",
              "      display:flex;\n",
              "      flex-wrap:wrap;\n",
              "      gap: 12px;\n",
              "    }\n",
              "\n",
              "    .colab-df-convert {\n",
              "      background-color: #E8F0FE;\n",
              "      border: none;\n",
              "      border-radius: 50%;\n",
              "      cursor: pointer;\n",
              "      display: none;\n",
              "      fill: #1967D2;\n",
              "      height: 32px;\n",
              "      padding: 0 0 0 0;\n",
              "      width: 32px;\n",
              "    }\n",
              "\n",
              "    .colab-df-convert:hover {\n",
              "      background-color: #E2EBFA;\n",
              "      box-shadow: 0px 1px 2px rgba(60, 64, 67, 0.3), 0px 1px 3px 1px rgba(60, 64, 67, 0.15);\n",
              "      fill: #174EA6;\n",
              "    }\n",
              "\n",
              "    [theme=dark] .colab-df-convert {\n",
              "      background-color: #3B4455;\n",
              "      fill: #D2E3FC;\n",
              "    }\n",
              "\n",
              "    [theme=dark] .colab-df-convert:hover {\n",
              "      background-color: #434B5C;\n",
              "      box-shadow: 0px 1px 3px 1px rgba(0, 0, 0, 0.15);\n",
              "      filter: drop-shadow(0px 1px 2px rgba(0, 0, 0, 0.3));\n",
              "      fill: #FFFFFF;\n",
              "    }\n",
              "  </style>\n",
              "\n",
              "      <script>\n",
              "        const buttonEl =\n",
              "          document.querySelector('#df-084b65ae-00c8-4a27-8f47-df1164fbb8c6 button.colab-df-convert');\n",
              "        buttonEl.style.display =\n",
              "          google.colab.kernel.accessAllowed ? 'block' : 'none';\n",
              "\n",
              "        async function convertToInteractive(key) {\n",
              "          const element = document.querySelector('#df-084b65ae-00c8-4a27-8f47-df1164fbb8c6');\n",
              "          const dataTable =\n",
              "            await google.colab.kernel.invokeFunction('convertToInteractive',\n",
              "                                                     [key], {});\n",
              "          if (!dataTable) return;\n",
              "\n",
              "          const docLinkHtml = 'Like what you see? Visit the ' +\n",
              "            '<a target=\"_blank\" href=https://colab.research.google.com/notebooks/data_table.ipynb>data table notebook</a>'\n",
              "            + ' to learn more about interactive tables.';\n",
              "          element.innerHTML = '';\n",
              "          dataTable['output_type'] = 'display_data';\n",
              "          await google.colab.output.renderOutput(dataTable, element);\n",
              "          const docLink = document.createElement('div');\n",
              "          docLink.innerHTML = docLinkHtml;\n",
              "          element.appendChild(docLink);\n",
              "        }\n",
              "      </script>\n",
              "    </div>\n",
              "  </div>\n",
              "  "
            ],
            "text/plain": [
              "       Airline Date_of_Journey    Source  ... Total_Stops Additional_Info  Price\n",
              "0       IndiGo      24/03/2019  Banglore  ...    non-stop         No info   3897\n",
              "1    Air India       1/05/2019   Kolkata  ...     2 stops         No info   7662\n",
              "2  Jet Airways       9/06/2019     Delhi  ...     2 stops         No info  13882\n",
              "3       IndiGo      12/05/2019   Kolkata  ...      1 stop         No info   6218\n",
              "4       IndiGo      01/03/2019  Banglore  ...      1 stop         No info  13302\n",
              "\n",
              "[5 rows x 11 columns]"
            ]
          },
          "metadata": {},
          "execution_count": 4
        }
      ]
    },
    {
      "cell_type": "code",
      "metadata": {
        "id": "PFRjRxx4Y34Y",
        "colab": {
          "base_uri": "https://localhost:8080/",
          "height": 0
        },
        "outputId": "db3aa9c9-877a-4a09-99d0-fec8cc77e9be"
      },
      "source": [
        "train.describe()"
      ],
      "execution_count": 5,
      "outputs": [
        {
          "output_type": "execute_result",
          "data": {
            "text/html": [
              "\n",
              "  <div id=\"df-cb75f424-5c19-4bc9-b013-e12d94bde87f\">\n",
              "    <div class=\"colab-df-container\">\n",
              "      <div>\n",
              "<style scoped>\n",
              "    .dataframe tbody tr th:only-of-type {\n",
              "        vertical-align: middle;\n",
              "    }\n",
              "\n",
              "    .dataframe tbody tr th {\n",
              "        vertical-align: top;\n",
              "    }\n",
              "\n",
              "    .dataframe thead th {\n",
              "        text-align: right;\n",
              "    }\n",
              "</style>\n",
              "<table border=\"1\" class=\"dataframe\">\n",
              "  <thead>\n",
              "    <tr style=\"text-align: right;\">\n",
              "      <th></th>\n",
              "      <th>Price</th>\n",
              "    </tr>\n",
              "  </thead>\n",
              "  <tbody>\n",
              "    <tr>\n",
              "      <th>count</th>\n",
              "      <td>10683.000000</td>\n",
              "    </tr>\n",
              "    <tr>\n",
              "      <th>mean</th>\n",
              "      <td>9087.064121</td>\n",
              "    </tr>\n",
              "    <tr>\n",
              "      <th>std</th>\n",
              "      <td>4611.359167</td>\n",
              "    </tr>\n",
              "    <tr>\n",
              "      <th>min</th>\n",
              "      <td>1759.000000</td>\n",
              "    </tr>\n",
              "    <tr>\n",
              "      <th>25%</th>\n",
              "      <td>5277.000000</td>\n",
              "    </tr>\n",
              "    <tr>\n",
              "      <th>50%</th>\n",
              "      <td>8372.000000</td>\n",
              "    </tr>\n",
              "    <tr>\n",
              "      <th>75%</th>\n",
              "      <td>12373.000000</td>\n",
              "    </tr>\n",
              "    <tr>\n",
              "      <th>max</th>\n",
              "      <td>79512.000000</td>\n",
              "    </tr>\n",
              "  </tbody>\n",
              "</table>\n",
              "</div>\n",
              "      <button class=\"colab-df-convert\" onclick=\"convertToInteractive('df-cb75f424-5c19-4bc9-b013-e12d94bde87f')\"\n",
              "              title=\"Convert this dataframe to an interactive table.\"\n",
              "              style=\"display:none;\">\n",
              "        \n",
              "  <svg xmlns=\"http://www.w3.org/2000/svg\" height=\"24px\"viewBox=\"0 0 24 24\"\n",
              "       width=\"24px\">\n",
              "    <path d=\"M0 0h24v24H0V0z\" fill=\"none\"/>\n",
              "    <path d=\"M18.56 5.44l.94 2.06.94-2.06 2.06-.94-2.06-.94-.94-2.06-.94 2.06-2.06.94zm-11 1L8.5 8.5l.94-2.06 2.06-.94-2.06-.94L8.5 2.5l-.94 2.06-2.06.94zm10 10l.94 2.06.94-2.06 2.06-.94-2.06-.94-.94-2.06-.94 2.06-2.06.94z\"/><path d=\"M17.41 7.96l-1.37-1.37c-.4-.4-.92-.59-1.43-.59-.52 0-1.04.2-1.43.59L10.3 9.45l-7.72 7.72c-.78.78-.78 2.05 0 2.83L4 21.41c.39.39.9.59 1.41.59.51 0 1.02-.2 1.41-.59l7.78-7.78 2.81-2.81c.8-.78.8-2.07 0-2.86zM5.41 20L4 18.59l7.72-7.72 1.47 1.35L5.41 20z\"/>\n",
              "  </svg>\n",
              "      </button>\n",
              "      \n",
              "  <style>\n",
              "    .colab-df-container {\n",
              "      display:flex;\n",
              "      flex-wrap:wrap;\n",
              "      gap: 12px;\n",
              "    }\n",
              "\n",
              "    .colab-df-convert {\n",
              "      background-color: #E8F0FE;\n",
              "      border: none;\n",
              "      border-radius: 50%;\n",
              "      cursor: pointer;\n",
              "      display: none;\n",
              "      fill: #1967D2;\n",
              "      height: 32px;\n",
              "      padding: 0 0 0 0;\n",
              "      width: 32px;\n",
              "    }\n",
              "\n",
              "    .colab-df-convert:hover {\n",
              "      background-color: #E2EBFA;\n",
              "      box-shadow: 0px 1px 2px rgba(60, 64, 67, 0.3), 0px 1px 3px 1px rgba(60, 64, 67, 0.15);\n",
              "      fill: #174EA6;\n",
              "    }\n",
              "\n",
              "    [theme=dark] .colab-df-convert {\n",
              "      background-color: #3B4455;\n",
              "      fill: #D2E3FC;\n",
              "    }\n",
              "\n",
              "    [theme=dark] .colab-df-convert:hover {\n",
              "      background-color: #434B5C;\n",
              "      box-shadow: 0px 1px 3px 1px rgba(0, 0, 0, 0.15);\n",
              "      filter: drop-shadow(0px 1px 2px rgba(0, 0, 0, 0.3));\n",
              "      fill: #FFFFFF;\n",
              "    }\n",
              "  </style>\n",
              "\n",
              "      <script>\n",
              "        const buttonEl =\n",
              "          document.querySelector('#df-cb75f424-5c19-4bc9-b013-e12d94bde87f button.colab-df-convert');\n",
              "        buttonEl.style.display =\n",
              "          google.colab.kernel.accessAllowed ? 'block' : 'none';\n",
              "\n",
              "        async function convertToInteractive(key) {\n",
              "          const element = document.querySelector('#df-cb75f424-5c19-4bc9-b013-e12d94bde87f');\n",
              "          const dataTable =\n",
              "            await google.colab.kernel.invokeFunction('convertToInteractive',\n",
              "                                                     [key], {});\n",
              "          if (!dataTable) return;\n",
              "\n",
              "          const docLinkHtml = 'Like what you see? Visit the ' +\n",
              "            '<a target=\"_blank\" href=https://colab.research.google.com/notebooks/data_table.ipynb>data table notebook</a>'\n",
              "            + ' to learn more about interactive tables.';\n",
              "          element.innerHTML = '';\n",
              "          dataTable['output_type'] = 'display_data';\n",
              "          await google.colab.output.renderOutput(dataTable, element);\n",
              "          const docLink = document.createElement('div');\n",
              "          docLink.innerHTML = docLinkHtml;\n",
              "          element.appendChild(docLink);\n",
              "        }\n",
              "      </script>\n",
              "    </div>\n",
              "  </div>\n",
              "  "
            ],
            "text/plain": [
              "              Price\n",
              "count  10683.000000\n",
              "mean    9087.064121\n",
              "std     4611.359167\n",
              "min     1759.000000\n",
              "25%     5277.000000\n",
              "50%     8372.000000\n",
              "75%    12373.000000\n",
              "max    79512.000000"
            ]
          },
          "metadata": {},
          "execution_count": 5
        }
      ]
    },
    {
      "cell_type": "code",
      "metadata": {
        "id": "Z_mDIPO7bPvN",
        "colab": {
          "base_uri": "https://localhost:8080/"
        },
        "outputId": "ecc1005e-1242-45a3-e8e1-67f6e287b367"
      },
      "source": [
        "train.value_counts('Airline')"
      ],
      "execution_count": 6,
      "outputs": [
        {
          "output_type": "execute_result",
          "data": {
            "text/plain": [
              "Airline\n",
              "Jet Airways                          3849\n",
              "IndiGo                               2053\n",
              "Air India                            1752\n",
              "Multiple carriers                    1196\n",
              "SpiceJet                              818\n",
              "Vistara                               479\n",
              "Air Asia                              319\n",
              "GoAir                                 194\n",
              "Multiple carriers Premium economy      13\n",
              "Jet Airways Business                    6\n",
              "Vistara Premium economy                 3\n",
              "Trujet                                  1\n",
              "dtype: int64"
            ]
          },
          "metadata": {},
          "execution_count": 6
        }
      ]
    },
    {
      "cell_type": "code",
      "metadata": {
        "id": "8bcexpH0ekF2",
        "colab": {
          "base_uri": "https://localhost:8080/"
        },
        "outputId": "efa2b056-6323-497e-fa93-b41d1eaee7df"
      },
      "source": [
        "train.value_counts('Destination')"
      ],
      "execution_count": 7,
      "outputs": [
        {
          "output_type": "execute_result",
          "data": {
            "text/plain": [
              "Destination\n",
              "Cochin       4537\n",
              "Banglore     2871\n",
              "Delhi        1265\n",
              "New Delhi     932\n",
              "Hyderabad     697\n",
              "Kolkata       381\n",
              "dtype: int64"
            ]
          },
          "metadata": {},
          "execution_count": 7
        }
      ]
    },
    {
      "cell_type": "code",
      "source": [
        "train.value_counts('Additional_Info')"
      ],
      "metadata": {
        "colab": {
          "base_uri": "https://localhost:8080/"
        },
        "id": "sOjwPhMUpjNf",
        "outputId": "4c5c8ead-e989-4ed5-d9ed-fa44e597b880"
      },
      "execution_count": 8,
      "outputs": [
        {
          "output_type": "execute_result",
          "data": {
            "text/plain": [
              "Additional_Info\n",
              "No info                         8345\n",
              "In-flight meal not included     1982\n",
              "No check-in baggage included     320\n",
              "1 Long layover                    19\n",
              "Change airports                    7\n",
              "Business class                     4\n",
              "No Info                            3\n",
              "1 Short layover                    1\n",
              "2 Long layover                     1\n",
              "Red-eye flight                     1\n",
              "dtype: int64"
            ]
          },
          "metadata": {},
          "execution_count": 8
        }
      ]
    },
    {
      "cell_type": "code",
      "source": [
        "test.head(5)"
      ],
      "metadata": {
        "colab": {
          "base_uri": "https://localhost:8080/",
          "height": 0
        },
        "id": "tfttD9sBV7Fu",
        "outputId": "17c21b0d-800a-4588-a954-572b46633788"
      },
      "execution_count": 9,
      "outputs": [
        {
          "output_type": "execute_result",
          "data": {
            "text/html": [
              "\n",
              "  <div id=\"df-a028d892-c354-4603-a74c-d5d39c3b010b\">\n",
              "    <div class=\"colab-df-container\">\n",
              "      <div>\n",
              "<style scoped>\n",
              "    .dataframe tbody tr th:only-of-type {\n",
              "        vertical-align: middle;\n",
              "    }\n",
              "\n",
              "    .dataframe tbody tr th {\n",
              "        vertical-align: top;\n",
              "    }\n",
              "\n",
              "    .dataframe thead th {\n",
              "        text-align: right;\n",
              "    }\n",
              "</style>\n",
              "<table border=\"1\" class=\"dataframe\">\n",
              "  <thead>\n",
              "    <tr style=\"text-align: right;\">\n",
              "      <th></th>\n",
              "      <th>Airline</th>\n",
              "      <th>Date_of_Journey</th>\n",
              "      <th>Source</th>\n",
              "      <th>Destination</th>\n",
              "      <th>Route</th>\n",
              "      <th>Dep_Time</th>\n",
              "      <th>Arrival_Time</th>\n",
              "      <th>Duration</th>\n",
              "      <th>Total_Stops</th>\n",
              "      <th>Additional_Info</th>\n",
              "    </tr>\n",
              "  </thead>\n",
              "  <tbody>\n",
              "    <tr>\n",
              "      <th>0</th>\n",
              "      <td>Jet Airways</td>\n",
              "      <td>6/06/2019</td>\n",
              "      <td>Delhi</td>\n",
              "      <td>Cochin</td>\n",
              "      <td>DEL → BOM → COK</td>\n",
              "      <td>17:30</td>\n",
              "      <td>04:25 07 Jun</td>\n",
              "      <td>10h 55m</td>\n",
              "      <td>1 stop</td>\n",
              "      <td>No info</td>\n",
              "    </tr>\n",
              "    <tr>\n",
              "      <th>1</th>\n",
              "      <td>IndiGo</td>\n",
              "      <td>12/05/2019</td>\n",
              "      <td>Kolkata</td>\n",
              "      <td>Banglore</td>\n",
              "      <td>CCU → MAA → BLR</td>\n",
              "      <td>06:20</td>\n",
              "      <td>10:20</td>\n",
              "      <td>4h</td>\n",
              "      <td>1 stop</td>\n",
              "      <td>No info</td>\n",
              "    </tr>\n",
              "    <tr>\n",
              "      <th>2</th>\n",
              "      <td>Jet Airways</td>\n",
              "      <td>21/05/2019</td>\n",
              "      <td>Delhi</td>\n",
              "      <td>Cochin</td>\n",
              "      <td>DEL → BOM → COK</td>\n",
              "      <td>19:15</td>\n",
              "      <td>19:00 22 May</td>\n",
              "      <td>23h 45m</td>\n",
              "      <td>1 stop</td>\n",
              "      <td>In-flight meal not included</td>\n",
              "    </tr>\n",
              "    <tr>\n",
              "      <th>3</th>\n",
              "      <td>Multiple carriers</td>\n",
              "      <td>21/05/2019</td>\n",
              "      <td>Delhi</td>\n",
              "      <td>Cochin</td>\n",
              "      <td>DEL → BOM → COK</td>\n",
              "      <td>08:00</td>\n",
              "      <td>21:00</td>\n",
              "      <td>13h</td>\n",
              "      <td>1 stop</td>\n",
              "      <td>No info</td>\n",
              "    </tr>\n",
              "    <tr>\n",
              "      <th>4</th>\n",
              "      <td>Air Asia</td>\n",
              "      <td>24/06/2019</td>\n",
              "      <td>Banglore</td>\n",
              "      <td>Delhi</td>\n",
              "      <td>BLR → DEL</td>\n",
              "      <td>23:55</td>\n",
              "      <td>02:45 25 Jun</td>\n",
              "      <td>2h 50m</td>\n",
              "      <td>non-stop</td>\n",
              "      <td>No info</td>\n",
              "    </tr>\n",
              "  </tbody>\n",
              "</table>\n",
              "</div>\n",
              "      <button class=\"colab-df-convert\" onclick=\"convertToInteractive('df-a028d892-c354-4603-a74c-d5d39c3b010b')\"\n",
              "              title=\"Convert this dataframe to an interactive table.\"\n",
              "              style=\"display:none;\">\n",
              "        \n",
              "  <svg xmlns=\"http://www.w3.org/2000/svg\" height=\"24px\"viewBox=\"0 0 24 24\"\n",
              "       width=\"24px\">\n",
              "    <path d=\"M0 0h24v24H0V0z\" fill=\"none\"/>\n",
              "    <path d=\"M18.56 5.44l.94 2.06.94-2.06 2.06-.94-2.06-.94-.94-2.06-.94 2.06-2.06.94zm-11 1L8.5 8.5l.94-2.06 2.06-.94-2.06-.94L8.5 2.5l-.94 2.06-2.06.94zm10 10l.94 2.06.94-2.06 2.06-.94-2.06-.94-.94-2.06-.94 2.06-2.06.94z\"/><path d=\"M17.41 7.96l-1.37-1.37c-.4-.4-.92-.59-1.43-.59-.52 0-1.04.2-1.43.59L10.3 9.45l-7.72 7.72c-.78.78-.78 2.05 0 2.83L4 21.41c.39.39.9.59 1.41.59.51 0 1.02-.2 1.41-.59l7.78-7.78 2.81-2.81c.8-.78.8-2.07 0-2.86zM5.41 20L4 18.59l7.72-7.72 1.47 1.35L5.41 20z\"/>\n",
              "  </svg>\n",
              "      </button>\n",
              "      \n",
              "  <style>\n",
              "    .colab-df-container {\n",
              "      display:flex;\n",
              "      flex-wrap:wrap;\n",
              "      gap: 12px;\n",
              "    }\n",
              "\n",
              "    .colab-df-convert {\n",
              "      background-color: #E8F0FE;\n",
              "      border: none;\n",
              "      border-radius: 50%;\n",
              "      cursor: pointer;\n",
              "      display: none;\n",
              "      fill: #1967D2;\n",
              "      height: 32px;\n",
              "      padding: 0 0 0 0;\n",
              "      width: 32px;\n",
              "    }\n",
              "\n",
              "    .colab-df-convert:hover {\n",
              "      background-color: #E2EBFA;\n",
              "      box-shadow: 0px 1px 2px rgba(60, 64, 67, 0.3), 0px 1px 3px 1px rgba(60, 64, 67, 0.15);\n",
              "      fill: #174EA6;\n",
              "    }\n",
              "\n",
              "    [theme=dark] .colab-df-convert {\n",
              "      background-color: #3B4455;\n",
              "      fill: #D2E3FC;\n",
              "    }\n",
              "\n",
              "    [theme=dark] .colab-df-convert:hover {\n",
              "      background-color: #434B5C;\n",
              "      box-shadow: 0px 1px 3px 1px rgba(0, 0, 0, 0.15);\n",
              "      filter: drop-shadow(0px 1px 2px rgba(0, 0, 0, 0.3));\n",
              "      fill: #FFFFFF;\n",
              "    }\n",
              "  </style>\n",
              "\n",
              "      <script>\n",
              "        const buttonEl =\n",
              "          document.querySelector('#df-a028d892-c354-4603-a74c-d5d39c3b010b button.colab-df-convert');\n",
              "        buttonEl.style.display =\n",
              "          google.colab.kernel.accessAllowed ? 'block' : 'none';\n",
              "\n",
              "        async function convertToInteractive(key) {\n",
              "          const element = document.querySelector('#df-a028d892-c354-4603-a74c-d5d39c3b010b');\n",
              "          const dataTable =\n",
              "            await google.colab.kernel.invokeFunction('convertToInteractive',\n",
              "                                                     [key], {});\n",
              "          if (!dataTable) return;\n",
              "\n",
              "          const docLinkHtml = 'Like what you see? Visit the ' +\n",
              "            '<a target=\"_blank\" href=https://colab.research.google.com/notebooks/data_table.ipynb>data table notebook</a>'\n",
              "            + ' to learn more about interactive tables.';\n",
              "          element.innerHTML = '';\n",
              "          dataTable['output_type'] = 'display_data';\n",
              "          await google.colab.output.renderOutput(dataTable, element);\n",
              "          const docLink = document.createElement('div');\n",
              "          docLink.innerHTML = docLinkHtml;\n",
              "          element.appendChild(docLink);\n",
              "        }\n",
              "      </script>\n",
              "    </div>\n",
              "  </div>\n",
              "  "
            ],
            "text/plain": [
              "             Airline Date_of_Journey  ... Total_Stops              Additional_Info\n",
              "0        Jet Airways       6/06/2019  ...      1 stop                      No info\n",
              "1             IndiGo      12/05/2019  ...      1 stop                      No info\n",
              "2        Jet Airways      21/05/2019  ...      1 stop  In-flight meal not included\n",
              "3  Multiple carriers      21/05/2019  ...      1 stop                      No info\n",
              "4           Air Asia      24/06/2019  ...    non-stop                      No info\n",
              "\n",
              "[5 rows x 10 columns]"
            ]
          },
          "metadata": {},
          "execution_count": 9
        }
      ]
    },
    {
      "cell_type": "markdown",
      "metadata": {
        "id": "Sx-UYv63st_h"
      },
      "source": [
        "# Data Visualization"
      ]
    },
    {
      "cell_type": "code",
      "metadata": {
        "id": "gWkhTEN6bj5d",
        "colab": {
          "base_uri": "https://localhost:8080/",
          "height": 867
        },
        "outputId": "a25982e7-9ff0-44ae-c0d7-61a4f65213d7"
      },
      "source": [
        "import seaborn as sns\n",
        "import matplotlib.pyplot as plt\n",
        "from matplotlib.pyplot import figure\n",
        "\n",
        "%matplotlib inline \n",
        "\n",
        "corr = train.corr()\n",
        "top_corr_features = corr.index[abs(corr[\"Price\"])>0.00001]\n",
        "\n",
        "plt.figure(figsize=(15,15))\n",
        "g=sns.heatmap(train[top_corr_features].corr(),annot=True,cmap=\"YlGnBu\")"
      ],
      "execution_count": 17,
      "outputs": [
        {
          "output_type": "display_data",
          "data": {
            "image/png": "[encoded data removed]",
            "text/plain": [
              "<Figure size 1080x1080 with 2 Axes>"
            ]
          },
          "metadata": {
            "needs_background": "light"
          }
        }
      ]
    },
    {
      "cell_type": "code",
      "metadata": {
        "colab": {
          "base_uri": "https://localhost:8080/",
          "height": 405
        },
        "id": "Ay2g2O2j8DNV",
        "outputId": "c8c7371b-29dc-48b8-e3fa-0449198831da"
      },
      "source": [
        "plt.figure(figsize=(15,8))\n",
        "sns.displot(x ='Total_Stops',kde=True, data=train)"
      ],
      "execution_count": 18,
      "outputs": [
        {
          "output_type": "execute_result",
          "data": {
            "text/plain": [
              "<seaborn.axisgrid.FacetGrid at 0x7f75f0309a90>"
            ]
          },
          "metadata": {},
          "execution_count": 18
        },
        {
          "output_type": "display_data",
          "data": {
            "text/plain": [
              "<Figure size 1080x576 with 0 Axes>"
            ]
          },
          "metadata": {}
        },
        {
          "output_type": "display_data",
          "data": {
            "image/png": "[encoded data removed]",
            "text/plain": [
              "<Figure size 360x360 with 1 Axes>"
            ]
          },
          "metadata": {
            "needs_background": "light"
          }
        }
      ]
    },
    {
      "cell_type": "code",
      "metadata": {
        "colab": {
          "base_uri": "https://localhost:8080/",
          "height": 648
        },
        "id": "pXDs7_XamLFO",
        "outputId": "e07910d1-fccc-463f-c23d-fc273f415429"
      },
      "source": [
        "plt.figure(figsize=(20,12))\n",
        "with sns.axes_style(style='ticks'):    \n",
        "    g = sns.factorplot(\"Airline\", \"Price\", data=train, kind=\"box\")\n",
        "    plt.xticks(rotation=90)\n",
        "    g.set_axis_labels(\"Airline\", \"Price\");"
      ],
      "execution_count": 19,
      "outputs": [
        {
          "output_type": "stream",
          "name": "stderr",
          "text": [
            "/usr/local/lib/python3.7/dist-packages/seaborn/categorical.py:3717: UserWarning: The `factorplot` function has been renamed to `catplot`. The original name will be removed in a future release. Please update your code. Note that the default `kind` in `factorplot` (`'point'`) has changed `'strip'` in `catplot`.\n",
            "  warnings.warn(msg)\n",
            "/usr/local/lib/python3.7/dist-packages/seaborn/_decorators.py:43: FutureWarning: Pass the following variables as keyword args: x, y. From version 0.12, the only valid positional argument will be `data`, and passing other arguments without an explicit keyword will result in an error or misinterpretation.\n",
            "  FutureWarning\n"
          ]
        },
        {
          "output_type": "display_data",
          "data": {
            "text/plain": [
              "<Figure size 1440x864 with 0 Axes>"
            ]
          },
          "metadata": {}
        },
        {
          "output_type": "display_data",
          "data": {
            "image/png": "[encoded data removed]",
            "text/plain": [
              "<Figure size 360x360 with 1 Axes>"
            ]
          },
          "metadata": {}
        }
      ]
    },
    {
      "cell_type": "code",
      "source": [
        "plt.figure(figsize=(20,12))\n",
        "with sns.axes_style(style='ticks'):    \n",
        "    g = sns.factorplot(\"Total_Stops\", \"Price\", data=train, kind=\"box\")\n",
        "    plt.xticks(rotation=90)\n",
        "    g.set_axis_labels(\"Total_Stops\", \"Price\");"
      ],
      "metadata": {
        "colab": {
          "base_uri": "https://localhost:8080/",
          "height": 515
        },
        "id": "GxFLCkmntXXp",
        "outputId": "9a69befa-76f6-4914-a0ff-da358b8fc117"
      },
      "execution_count": 20,
      "outputs": [
        {
          "output_type": "stream",
          "name": "stderr",
          "text": [
            "/usr/local/lib/python3.7/dist-packages/seaborn/categorical.py:3717: UserWarning: The `factorplot` function has been renamed to `catplot`. The original name will be removed in a future release. Please update your code. Note that the default `kind` in `factorplot` (`'point'`) has changed `'strip'` in `catplot`.\n",
            "  warnings.warn(msg)\n",
            "/usr/local/lib/python3.7/dist-packages/seaborn/_decorators.py:43: FutureWarning: Pass the following variables as keyword args: x, y. From version 0.12, the only valid positional argument will be `data`, and passing other arguments without an explicit keyword will result in an error or misinterpretation.\n",
            "  FutureWarning\n"
          ]
        },
        {
          "output_type": "display_data",
          "data": {
            "text/plain": [
              "<Figure size 1440x864 with 0 Axes>"
            ]
          },
          "metadata": {}
        },
        {
          "output_type": "display_data",
          "data": {
            "image/png": "[encoded data removed]",
            "text/plain": [
              "<Figure size 360x360 with 1 Axes>"
            ]
          },
          "metadata": {}
        }
      ]
    },
    {
      "cell_type": "code",
      "metadata": {
        "colab": {
          "base_uri": "https://localhost:8080/",
          "height": 298
        },
        "id": "6yI__KkQ0GyG",
        "outputId": "11e5fb81-86c9-4805-a50c-1eff172a993d"
      },
      "source": [
        "sns.violinplot(x = train['Total_Stops'], y = train['Price'])"
      ],
      "execution_count": 21,
      "outputs": [
        {
          "output_type": "execute_result",
          "data": {
            "text/plain": [
              "<matplotlib.axes._subplots.AxesSubplot at 0x7f75f0523b50>"
            ]
          },
          "metadata": {},
          "execution_count": 21
        },
        {
          "output_type": "display_data",
          "data": {
            "image/png": "[encoded data removed]",
            "text/plain": [
              "<Figure size 432x288 with 1 Axes>"
            ]
          },
          "metadata": {
            "needs_background": "light"
          }
        }
      ]
    },
    {
      "cell_type": "code",
      "metadata": {
        "colab": {
          "base_uri": "https://localhost:8080/",
          "height": 354
        },
        "id": "mtDhrZpeDDYb",
        "outputId": "c285b00f-9cdd-46a7-f082-8d0cfdfb3eeb"
      },
      "source": [
        "sns.kdeplot(x = 'Price' , data = train ,hue = 'Total_Stops', color = 'black', shade=True)"
      ],
      "execution_count": 24,
      "outputs": [
        {
          "output_type": "stream",
          "name": "stderr",
          "text": [
            "/usr/local/lib/python3.7/dist-packages/seaborn/distributions.py:316: UserWarning: Dataset has 0 variance; skipping density estimate. Pass `warn_singular=False` to disable this warning.\n",
            "  warnings.warn(msg, UserWarning)\n"
          ]
        },
        {
          "output_type": "execute_result",
          "data": {
            "text/plain": [
              "<matplotlib.axes._subplots.AxesSubplot at 0x7f75f5622990>"
            ]
          },
          "metadata": {},
          "execution_count": 24
        },
        {
          "output_type": "display_data",
          "data": {
            "image/png": "[encoded data removed]",
            "text/plain": [
              "<Figure size 432x288 with 1 Axes>"
            ]
          },
          "metadata": {
            "needs_background": "light"
          }
        }
      ]
    },
    {
      "cell_type": "code",
      "metadata": {
        "colab": {
          "base_uri": "https://localhost:8080/"
        },
        "id": "oKpBxgpm5dX1",
        "outputId": "3b0cc3c6-f502-4ed9-c243-529daf5b80ee"
      },
      "source": [
        "n = train.nunique(axis=0)  \n",
        "print(\"No.of.unique values in each column :\\n\", n)"
      ],
      "execution_count": 25,
      "outputs": [
        {
          "output_type": "stream",
          "name": "stdout",
          "text": [
            "No.of.unique values in each column :\n",
            " Airline              12\n",
            "Date_of_Journey      44\n",
            "Source                5\n",
            "Destination           6\n",
            "Route               128\n",
            "Dep_Time            222\n",
            "Arrival_Time       1343\n",
            "Duration            368\n",
            "Total_Stops           5\n",
            "Additional_Info      10\n",
            "Price              1870\n",
            "dtype: int64\n"
          ]
        }
      ]
    },
    {
      "cell_type": "markdown",
      "metadata": {
        "id": "KQHiIqZWTHPT"
      },
      "source": [
        "# **Feature Engineering**"
      ]
    },
    {
      "cell_type": "markdown",
      "source": [
        "Finding and eliminating null/NaN/blank data"
      ],
      "metadata": {
        "id": "_NFQQ47FRS8v"
      }
    },
    {
      "cell_type": "code",
      "source": [
        "def missing_percent_of_column(train_set):\n",
        "    nan_percent = 100*(train_set.isnull().sum()/len(train_set))\n",
        "    nan_percent = nan_percent[nan_percent>0].sort_values(ascending=False).round(1)\n",
        "    DataFrame = pd.DataFrame(nan_percent)\n",
        "    # Rename the columns\n",
        "    mis_percent_table = DataFrame.rename(columns = {0 : '% of Misiing Values'}) \n",
        "    # Sort the table by percentage of missing descending\n",
        "    mis_percent = mis_percent_table\n",
        "    return mis_percent"
      ],
      "metadata": {
        "id": "WyWOcL_XHj1W"
      },
      "execution_count": 26,
      "outputs": []
    },
    {
      "cell_type": "code",
      "source": [
        "miss = missing_percent_of_column(train)\n",
        "miss"
      ],
      "metadata": {
        "colab": {
          "base_uri": "https://localhost:8080/",
          "height": 112
        },
        "id": "D8IFhwPvIQfW",
        "outputId": "d02cd28b-f398-429a-fd7f-da8618aa04e4"
      },
      "execution_count": 27,
      "outputs": [
        {
          "output_type": "execute_result",
          "data": {
            "text/html": [
              "\n",
              "  <div id=\"df-3a228d1b-9d73-46af-a27a-1ef666986ad9\">\n",
              "    <div class=\"colab-df-container\">\n",
              "      <div>\n",
              "<style scoped>\n",
              "    .dataframe tbody tr th:only-of-type {\n",
              "        vertical-align: middle;\n",
              "    }\n",
              "\n",
              "    .dataframe tbody tr th {\n",
              "        vertical-align: top;\n",
              "    }\n",
              "\n",
              "    .dataframe thead th {\n",
              "        text-align: right;\n",
              "    }\n",
              "</style>\n",
              "<table border=\"1\" class=\"dataframe\">\n",
              "  <thead>\n",
              "    <tr style=\"text-align: right;\">\n",
              "      <th></th>\n",
              "      <th>% of Misiing Values</th>\n",
              "    </tr>\n",
              "  </thead>\n",
              "  <tbody>\n",
              "    <tr>\n",
              "      <th>Route</th>\n",
              "      <td>0.0</td>\n",
              "    </tr>\n",
              "    <tr>\n",
              "      <th>Total_Stops</th>\n",
              "      <td>0.0</td>\n",
              "    </tr>\n",
              "  </tbody>\n",
              "</table>\n",
              "</div>\n",
              "      <button class=\"colab-df-convert\" onclick=\"convertToInteractive('df-3a228d1b-9d73-46af-a27a-1ef666986ad9')\"\n",
              "              title=\"Convert this dataframe to an interactive table.\"\n",
              "              style=\"display:none;\">\n",
              "        \n",
              "  <svg xmlns=\"http://www.w3.org/2000/svg\" height=\"24px\"viewBox=\"0 0 24 24\"\n",
              "       width=\"24px\">\n",
              "    <path d=\"M0 0h24v24H0V0z\" fill=\"none\"/>\n",
              "    <path d=\"M18.56 5.44l.94 2.06.94-2.06 2.06-.94-2.06-.94-.94-2.06-.94 2.06-2.06.94zm-11 1L8.5 8.5l.94-2.06 2.06-.94-2.06-.94L8.5 2.5l-.94 2.06-2.06.94zm10 10l.94 2.06.94-2.06 2.06-.94-2.06-.94-.94-2.06-.94 2.06-2.06.94z\"/><path d=\"M17.41 7.96l-1.37-1.37c-.4-.4-.92-.59-1.43-.59-.52 0-1.04.2-1.43.59L10.3 9.45l-7.72 7.72c-.78.78-.78 2.05 0 2.83L4 21.41c.39.39.9.59 1.41.59.51 0 1.02-.2 1.41-.59l7.78-7.78 2.81-2.81c.8-.78.8-2.07 0-2.86zM5.41 20L4 18.59l7.72-7.72 1.47 1.35L5.41 20z\"/>\n",
              "  </svg>\n",
              "      </button>\n",
              "      \n",
              "  <style>\n",
              "    .colab-df-container {\n",
              "      display:flex;\n",
              "      flex-wrap:wrap;\n",
              "      gap: 12px;\n",
              "    }\n",
              "\n",
              "    .colab-df-convert {\n",
              "      background-color: #E8F0FE;\n",
              "      border: none;\n",
              "      border-radius: 50%;\n",
              "      cursor: pointer;\n",
              "      display: none;\n",
              "      fill: #1967D2;\n",
              "      height: 32px;\n",
              "      padding: 0 0 0 0;\n",
              "      width: 32px;\n",
              "    }\n",
              "\n",
              "    .colab-df-convert:hover {\n",
              "      background-color: #E2EBFA;\n",
              "      box-shadow: 0px 1px 2px rgba(60, 64, 67, 0.3), 0px 1px 3px 1px rgba(60, 64, 67, 0.15);\n",
              "      fill: #174EA6;\n",
              "    }\n",
              "\n",
              "    [theme=dark] .colab-df-convert {\n",
              "      background-color: #3B4455;\n",
              "      fill: #D2E3FC;\n",
              "    }\n",
              "\n",
              "    [theme=dark] .colab-df-convert:hover {\n",
              "      background-color: #434B5C;\n",
              "      box-shadow: 0px 1px 3px 1px rgba(0, 0, 0, 0.15);\n",
              "      filter: drop-shadow(0px 1px 2px rgba(0, 0, 0, 0.3));\n",
              "      fill: #FFFFFF;\n",
              "    }\n",
              "  </style>\n",
              "\n",
              "      <script>\n",
              "        const buttonEl =\n",
              "          document.querySelector('#df-3a228d1b-9d73-46af-a27a-1ef666986ad9 button.colab-df-convert');\n",
              "        buttonEl.style.display =\n",
              "          google.colab.kernel.accessAllowed ? 'block' : 'none';\n",
              "\n",
              "        async function convertToInteractive(key) {\n",
              "          const element = document.querySelector('#df-3a228d1b-9d73-46af-a27a-1ef666986ad9');\n",
              "          const dataTable =\n",
              "            await google.colab.kernel.invokeFunction('convertToInteractive',\n",
              "                                                     [key], {});\n",
              "          if (!dataTable) return;\n",
              "\n",
              "          const docLinkHtml = 'Like what you see? Visit the ' +\n",
              "            '<a target=\"_blank\" href=https://colab.research.google.com/notebooks/data_table.ipynb>data table notebook</a>'\n",
              "            + ' to learn more about interactive tables.';\n",
              "          element.innerHTML = '';\n",
              "          dataTable['output_type'] = 'display_data';\n",
              "          await google.colab.output.renderOutput(dataTable, element);\n",
              "          const docLink = document.createElement('div');\n",
              "          docLink.innerHTML = docLinkHtml;\n",
              "          element.appendChild(docLink);\n",
              "        }\n",
              "      </script>\n",
              "    </div>\n",
              "  </div>\n",
              "  "
            ],
            "text/plain": [
              "             % of Misiing Values\n",
              "Route                        0.0\n",
              "Total_Stops                  0.0"
            ]
          },
          "metadata": {},
          "execution_count": 27
        }
      ]
    },
    {
      "cell_type": "code",
      "source": [
        "train= train.dropna(axis=0, subset=['Total_Stops'])"
      ],
      "metadata": {
        "id": "2NpOT0I9IXLj"
      },
      "execution_count": 28,
      "outputs": []
    },
    {
      "cell_type": "markdown",
      "source": [
        "Handling date and time columns"
      ],
      "metadata": {
        "id": "kD85JrYsRd6d"
      }
    },
    {
      "cell_type": "code",
      "source": [
        "#Transform string to date\n",
        "train['Date_of_Journey'] = pd.to_datetime(train.Date_of_Journey)\n",
        "test['Date_of_Journey'] = pd.to_datetime(test.Date_of_Journey)"
      ],
      "metadata": {
        "id": "Uszfeg4AIVKS",
        "colab": {
          "base_uri": "https://localhost:8080/"
        },
        "outputId": "0d5037a1-8e19-49d8-f086-6df85c1057e3"
      },
      "execution_count": 29,
      "outputs": [
        {
          "output_type": "stream",
          "name": "stderr",
          "text": [
            "/usr/local/lib/python3.7/dist-packages/ipykernel_launcher.py:2: SettingWithCopyWarning: \n",
            "A value is trying to be set on a copy of a slice from a DataFrame.\n",
            "Try using .loc[row_indexer,col_indexer] = value instead\n",
            "\n",
            "See the caveats in the documentation: https://pandas.pydata.org/pandas-docs/stable/user_guide/indexing.html#returning-a-view-versus-a-copy\n",
            "  \n"
          ]
        }
      ]
    },
    {
      "cell_type": "code",
      "source": [
        "#Extracting Month\n",
        "train['weekday_name'] = train['Date_of_Journey'].dt.weekday\n",
        "test['weekday_name'] = train['Date_of_Journey'].dt.weekday"
      ],
      "metadata": {
        "id": "JM6O5HWFW4RW",
        "colab": {
          "base_uri": "https://localhost:8080/"
        },
        "outputId": "1ae0f7fa-2577-4625-8574-622b62d9ef14"
      },
      "execution_count": 30,
      "outputs": [
        {
          "output_type": "stream",
          "name": "stderr",
          "text": [
            "/usr/local/lib/python3.7/dist-packages/ipykernel_launcher.py:2: SettingWithCopyWarning: \n",
            "A value is trying to be set on a copy of a slice from a DataFrame.\n",
            "Try using .loc[row_indexer,col_indexer] = value instead\n",
            "\n",
            "See the caveats in the documentation: https://pandas.pydata.org/pandas-docs/stable/user_guide/indexing.html#returning-a-view-versus-a-copy\n",
            "  \n"
          ]
        }
      ]
    },
    {
      "cell_type": "code",
      "source": [
        "def WeekVsWEnd(day):\n",
        "  if day < 5:\n",
        "    return 1\n",
        "  else:\n",
        "    return 2"
      ],
      "metadata": {
        "id": "dc0ZpjFLXmkd"
      },
      "execution_count": 31,
      "outputs": []
    },
    {
      "cell_type": "code",
      "source": [
        "#Extracting Month\n",
        "train['weekday_name'] = train['weekday_name'].apply(WeekVsWEnd)\n",
        "test['weekday_name'] = train['weekday_name'].apply(WeekVsWEnd)"
      ],
      "metadata": {
        "id": "R8iwzBljX6lI",
        "colab": {
          "base_uri": "https://localhost:8080/"
        },
        "outputId": "81ec05d9-2718-4169-f422-01eb2902dbb2"
      },
      "execution_count": 32,
      "outputs": [
        {
          "output_type": "stream",
          "name": "stderr",
          "text": [
            "/usr/local/lib/python3.7/dist-packages/ipykernel_launcher.py:2: SettingWithCopyWarning: \n",
            "A value is trying to be set on a copy of a slice from a DataFrame.\n",
            "Try using .loc[row_indexer,col_indexer] = value instead\n",
            "\n",
            "See the caveats in the documentation: https://pandas.pydata.org/pandas-docs/stable/user_guide/indexing.html#returning-a-view-versus-a-copy\n",
            "  \n"
          ]
        }
      ]
    },
    {
      "cell_type": "code",
      "source": [
        "#Extracting Month\n",
        "train['month'] = train['Date_of_Journey'].dt.month\n",
        "test['month'] = test['Date_of_Journey'].dt.month\n",
        "\n",
        "#Extracting Month\n",
        "train['day'] = train['Date_of_Journey'].dt.day\n",
        "test['day'] = test['Date_of_Journey'].dt.day\n"
      ],
      "metadata": {
        "id": "L1FR2nY2Mq4Z",
        "colab": {
          "base_uri": "https://localhost:8080/"
        },
        "outputId": "5e337fb0-9543-4c01-b95e-7cd8a03567e3"
      },
      "execution_count": 33,
      "outputs": [
        {
          "output_type": "stream",
          "name": "stderr",
          "text": [
            "/usr/local/lib/python3.7/dist-packages/ipykernel_launcher.py:2: SettingWithCopyWarning: \n",
            "A value is trying to be set on a copy of a slice from a DataFrame.\n",
            "Try using .loc[row_indexer,col_indexer] = value instead\n",
            "\n",
            "See the caveats in the documentation: https://pandas.pydata.org/pandas-docs/stable/user_guide/indexing.html#returning-a-view-versus-a-copy\n",
            "  \n",
            "/usr/local/lib/python3.7/dist-packages/ipykernel_launcher.py:6: SettingWithCopyWarning: \n",
            "A value is trying to be set on a copy of a slice from a DataFrame.\n",
            "Try using .loc[row_indexer,col_indexer] = value instead\n",
            "\n",
            "See the caveats in the documentation: https://pandas.pydata.org/pandas-docs/stable/user_guide/indexing.html#returning-a-view-versus-a-copy\n",
            "  \n"
          ]
        }
      ]
    },
    {
      "cell_type": "code",
      "source": [
        "sns.lineplot(x = 'month',y = 'Price' , data = train)"
      ],
      "metadata": {
        "colab": {
          "base_uri": "https://localhost:8080/",
          "height": 297
        },
        "id": "m-Nu2QEaGykr",
        "outputId": "daf3a551-a865-48ec-c9a7-625dd66847de"
      },
      "execution_count": 34,
      "outputs": [
        {
          "output_type": "execute_result",
          "data": {
            "text/plain": [
              "<matplotlib.axes._subplots.AxesSubplot at 0x7f75f0748110>"
            ]
          },
          "metadata": {},
          "execution_count": 34
        },
        {
          "output_type": "display_data",
          "data": {
            "image/png": "[encoded data removed]",
            "text/plain": [
              "<Figure size 432x288 with 1 Axes>"
            ]
          },
          "metadata": {
            "needs_background": "light"
          }
        }
      ]
    },
    {
      "cell_type": "code",
      "metadata": {
        "id": "9KSXaNXVTStQ"
      },
      "source": [
        "def ConvertToMin(duration):\n",
        "  time = duration.split(' ')\n",
        "  total_tm = 0\n",
        "  for tm in range(len(time)):\n",
        "    if time[tm][-1] == 'h':\n",
        "      total_tm += int(time[tm][:-1]) * 60\n",
        "    elif time[tm][-1] == 'm':\n",
        "      total_tm += int(time[tm][:-1])\n",
        "  return total_tm"
      ],
      "execution_count": 35,
      "outputs": []
    },
    {
      "cell_type": "code",
      "source": [
        "train['Duration_min'] = train['Duration'].apply(ConvertToMin)\n",
        "test['Duration_min'] = test['Duration'].apply(ConvertToMin)"
      ],
      "metadata": {
        "id": "nZ9OpN_Ogp8v",
        "colab": {
          "base_uri": "https://localhost:8080/"
        },
        "outputId": "910d6a25-7282-4939-a446-3bf1fc1ae504"
      },
      "execution_count": 36,
      "outputs": [
        {
          "output_type": "stream",
          "name": "stderr",
          "text": [
            "/usr/local/lib/python3.7/dist-packages/ipykernel_launcher.py:1: SettingWithCopyWarning: \n",
            "A value is trying to be set on a copy of a slice from a DataFrame.\n",
            "Try using .loc[row_indexer,col_indexer] = value instead\n",
            "\n",
            "See the caveats in the documentation: https://pandas.pydata.org/pandas-docs/stable/user_guide/indexing.html#returning-a-view-versus-a-copy\n",
            "  \"\"\"Entry point for launching an IPython kernel.\n"
          ]
        }
      ]
    },
    {
      "cell_type": "code",
      "source": [
        "train.sort_values('Duration_min').head(5)"
      ],
      "metadata": {
        "colab": {
          "base_uri": "https://localhost:8080/",
          "height": 372
        },
        "id": "854GEVxw2uZI",
        "outputId": "d9dc9eb3-97c3-41bf-b506-51a1ff01f2db"
      },
      "execution_count": 37,
      "outputs": [
        {
          "output_type": "execute_result",
          "data": {
            "text/html": [
              "\n",
              "  <div id=\"df-775ccadd-b684-465c-afc4-9f6cc19c405a\">\n",
              "    <div class=\"colab-df-container\">\n",
              "      <div>\n",
              "<style scoped>\n",
              "    .dataframe tbody tr th:only-of-type {\n",
              "        vertical-align: middle;\n",
              "    }\n",
              "\n",
              "    .dataframe tbody tr th {\n",
              "        vertical-align: top;\n",
              "    }\n",
              "\n",
              "    .dataframe thead th {\n",
              "        text-align: right;\n",
              "    }\n",
              "</style>\n",
              "<table border=\"1\" class=\"dataframe\">\n",
              "  <thead>\n",
              "    <tr style=\"text-align: right;\">\n",
              "      <th></th>\n",
              "      <th>Airline</th>\n",
              "      <th>Date_of_Journey</th>\n",
              "      <th>Source</th>\n",
              "      <th>Destination</th>\n",
              "      <th>Route</th>\n",
              "      <th>Dep_Time</th>\n",
              "      <th>Arrival_Time</th>\n",
              "      <th>Duration</th>\n",
              "      <th>Total_Stops</th>\n",
              "      <th>Additional_Info</th>\n",
              "      <th>Price</th>\n",
              "      <th>weekday_name</th>\n",
              "      <th>month</th>\n",
              "      <th>day</th>\n",
              "      <th>Duration_min</th>\n",
              "    </tr>\n",
              "  </thead>\n",
              "  <tbody>\n",
              "    <tr>\n",
              "      <th>6474</th>\n",
              "      <td>Air India</td>\n",
              "      <td>2019-06-03</td>\n",
              "      <td>Mumbai</td>\n",
              "      <td>Hyderabad</td>\n",
              "      <td>BOM → GOI → PNQ → HYD</td>\n",
              "      <td>16:50</td>\n",
              "      <td>16:55</td>\n",
              "      <td>5m</td>\n",
              "      <td>2 stops</td>\n",
              "      <td>No info</td>\n",
              "      <td>17327</td>\n",
              "      <td>1</td>\n",
              "      <td>6</td>\n",
              "      <td>3</td>\n",
              "      <td>5</td>\n",
              "    </tr>\n",
              "    <tr>\n",
              "      <th>4806</th>\n",
              "      <td>Air India</td>\n",
              "      <td>2019-03-04</td>\n",
              "      <td>Mumbai</td>\n",
              "      <td>Hyderabad</td>\n",
              "      <td>BOM → HYD</td>\n",
              "      <td>19:30</td>\n",
              "      <td>20:45</td>\n",
              "      <td>1h 15m</td>\n",
              "      <td>non-stop</td>\n",
              "      <td>No info</td>\n",
              "      <td>2050</td>\n",
              "      <td>1</td>\n",
              "      <td>3</td>\n",
              "      <td>4</td>\n",
              "      <td>75</td>\n",
              "    </tr>\n",
              "    <tr>\n",
              "      <th>10297</th>\n",
              "      <td>Air India</td>\n",
              "      <td>2019-05-27</td>\n",
              "      <td>Mumbai</td>\n",
              "      <td>Hyderabad</td>\n",
              "      <td>BOM → HYD</td>\n",
              "      <td>19:30</td>\n",
              "      <td>20:45</td>\n",
              "      <td>1h 15m</td>\n",
              "      <td>non-stop</td>\n",
              "      <td>No info</td>\n",
              "      <td>3100</td>\n",
              "      <td>1</td>\n",
              "      <td>5</td>\n",
              "      <td>27</td>\n",
              "      <td>75</td>\n",
              "    </tr>\n",
              "    <tr>\n",
              "      <th>7392</th>\n",
              "      <td>Air India</td>\n",
              "      <td>2019-01-03</td>\n",
              "      <td>Mumbai</td>\n",
              "      <td>Hyderabad</td>\n",
              "      <td>BOM → HYD</td>\n",
              "      <td>19:30</td>\n",
              "      <td>20:45</td>\n",
              "      <td>1h 15m</td>\n",
              "      <td>non-stop</td>\n",
              "      <td>No info</td>\n",
              "      <td>15385</td>\n",
              "      <td>1</td>\n",
              "      <td>1</td>\n",
              "      <td>3</td>\n",
              "      <td>75</td>\n",
              "    </tr>\n",
              "    <tr>\n",
              "      <th>7759</th>\n",
              "      <td>Air India</td>\n",
              "      <td>2019-03-03</td>\n",
              "      <td>Mumbai</td>\n",
              "      <td>Hyderabad</td>\n",
              "      <td>BOM → HYD</td>\n",
              "      <td>19:30</td>\n",
              "      <td>20:45</td>\n",
              "      <td>1h 15m</td>\n",
              "      <td>non-stop</td>\n",
              "      <td>No info</td>\n",
              "      <td>11185</td>\n",
              "      <td>2</td>\n",
              "      <td>3</td>\n",
              "      <td>3</td>\n",
              "      <td>75</td>\n",
              "    </tr>\n",
              "  </tbody>\n",
              "</table>\n",
              "</div>\n",
              "      <button class=\"colab-df-convert\" onclick=\"convertToInteractive('df-775ccadd-b684-465c-afc4-9f6cc19c405a')\"\n",
              "              title=\"Convert this dataframe to an interactive table.\"\n",
              "              style=\"display:none;\">\n",
              "        \n",
              "  <svg xmlns=\"http://www.w3.org/2000/svg\" height=\"24px\"viewBox=\"0 0 24 24\"\n",
              "       width=\"24px\">\n",
              "    <path d=\"M0 0h24v24H0V0z\" fill=\"none\"/>\n",
              "    <path d=\"M18.56 5.44l.94 2.06.94-2.06 2.06-.94-2.06-.94-.94-2.06-.94 2.06-2.06.94zm-11 1L8.5 8.5l.94-2.06 2.06-.94-2.06-.94L8.5 2.5l-.94 2.06-2.06.94zm10 10l.94 2.06.94-2.06 2.06-.94-2.06-.94-.94-2.06-.94 2.06-2.06.94z\"/><path d=\"M17.41 7.96l-1.37-1.37c-.4-.4-.92-.59-1.43-.59-.52 0-1.04.2-1.43.59L10.3 9.45l-7.72 7.72c-.78.78-.78 2.05 0 2.83L4 21.41c.39.39.9.59 1.41.59.51 0 1.02-.2 1.41-.59l7.78-7.78 2.81-2.81c.8-.78.8-2.07 0-2.86zM5.41 20L4 18.59l7.72-7.72 1.47 1.35L5.41 20z\"/>\n",
              "  </svg>\n",
              "      </button>\n",
              "      \n",
              "  <style>\n",
              "    .colab-df-container {\n",
              "      display:flex;\n",
              "      flex-wrap:wrap;\n",
              "      gap: 12px;\n",
              "    }\n",
              "\n",
              "    .colab-df-convert {\n",
              "      background-color: #E8F0FE;\n",
              "      border: none;\n",
              "      border-radius: 50%;\n",
              "      cursor: pointer;\n",
              "      display: none;\n",
              "      fill: #1967D2;\n",
              "      height: 32px;\n",
              "      padding: 0 0 0 0;\n",
              "      width: 32px;\n",
              "    }\n",
              "\n",
              "    .colab-df-convert:hover {\n",
              "      background-color: #E2EBFA;\n",
              "      box-shadow: 0px 1px 2px rgba(60, 64, 67, 0.3), 0px 1px 3px 1px rgba(60, 64, 67, 0.15);\n",
              "      fill: #174EA6;\n",
              "    }\n",
              "\n",
              "    [theme=dark] .colab-df-convert {\n",
              "      background-color: #3B4455;\n",
              "      fill: #D2E3FC;\n",
              "    }\n",
              "\n",
              "    [theme=dark] .colab-df-convert:hover {\n",
              "      background-color: #434B5C;\n",
              "      box-shadow: 0px 1px 3px 1px rgba(0, 0, 0, 0.15);\n",
              "      filter: drop-shadow(0px 1px 2px rgba(0, 0, 0, 0.3));\n",
              "      fill: #FFFFFF;\n",
              "    }\n",
              "  </style>\n",
              "\n",
              "      <script>\n",
              "        const buttonEl =\n",
              "          document.querySelector('#df-775ccadd-b684-465c-afc4-9f6cc19c405a button.colab-df-convert');\n",
              "        buttonEl.style.display =\n",
              "          google.colab.kernel.accessAllowed ? 'block' : 'none';\n",
              "\n",
              "        async function convertToInteractive(key) {\n",
              "          const element = document.querySelector('#df-775ccadd-b684-465c-afc4-9f6cc19c405a');\n",
              "          const dataTable =\n",
              "            await google.colab.kernel.invokeFunction('convertToInteractive',\n",
              "                                                     [key], {});\n",
              "          if (!dataTable) return;\n",
              "\n",
              "          const docLinkHtml = 'Like what you see? Visit the ' +\n",
              "            '<a target=\"_blank\" href=https://colab.research.google.com/notebooks/data_table.ipynb>data table notebook</a>'\n",
              "            + ' to learn more about interactive tables.';\n",
              "          element.innerHTML = '';\n",
              "          dataTable['output_type'] = 'display_data';\n",
              "          await google.colab.output.renderOutput(dataTable, element);\n",
              "          const docLink = document.createElement('div');\n",
              "          docLink.innerHTML = docLinkHtml;\n",
              "          element.appendChild(docLink);\n",
              "        }\n",
              "      </script>\n",
              "    </div>\n",
              "  </div>\n",
              "  "
            ],
            "text/plain": [
              "         Airline Date_of_Journey  Source  ... month day Duration_min\n",
              "6474   Air India      2019-06-03  Mumbai  ...     6   3            5\n",
              "4806   Air India      2019-03-04  Mumbai  ...     3   4           75\n",
              "10297  Air India      2019-05-27  Mumbai  ...     5  27           75\n",
              "7392   Air India      2019-01-03  Mumbai  ...     1   3           75\n",
              "7759   Air India      2019-03-03  Mumbai  ...     3   3           75\n",
              "\n",
              "[5 rows x 15 columns]"
            ]
          },
          "metadata": {},
          "execution_count": 37
        }
      ]
    },
    {
      "cell_type": "code",
      "metadata": {
        "colab": {
          "base_uri": "https://localhost:8080/",
          "height": 516
        },
        "id": "Cuu6bi7LEolT",
        "outputId": "3750c8c7-ec33-4d56-fa3f-323e6f84dfe4"
      },
      "source": [
        "plt.figure(figsize=(12,8))\n",
        "sns.scatterplot(data=train, x=\"Duration_min\", y=\"Price\", hue=\"Total_Stops\", style=\"Total_Stops\")"
      ],
      "execution_count": 38,
      "outputs": [
        {
          "output_type": "execute_result",
          "data": {
            "text/plain": [
              "<matplotlib.axes._subplots.AxesSubplot at 0x7f75f06ca490>"
            ]
          },
          "metadata": {},
          "execution_count": 38
        },
        {
          "output_type": "display_data",
          "data": {
            "image/png": "[encoded data removed]",
            "text/plain": [
              "<Figure size 864x576 with 1 Axes>"
            ]
          },
          "metadata": {
            "needs_background": "light"
          }
        }
      ]
    },
    {
      "cell_type": "code",
      "metadata": {
        "colab": {
          "base_uri": "https://localhost:8080/",
          "height": 303
        },
        "id": "tQki9whLGsxZ",
        "outputId": "c1a22769-aaef-4197-f62e-2008fa9a8149"
      },
      "source": [
        "plt.figure(figsize=(12,6))\n",
        "sns.relplot(data=train, x=\"Duration_min\", y=\"Price\", col=\"Total_Stops\", hue=\"Total_Stops\", style=\"Total_Stops\", kind=\"scatter\")"
      ],
      "execution_count": 39,
      "outputs": [
        {
          "output_type": "execute_result",
          "data": {
            "text/plain": [
              "<seaborn.axisgrid.FacetGrid at 0x7f75eff78dd0>"
            ]
          },
          "metadata": {},
          "execution_count": 39
        },
        {
          "output_type": "display_data",
          "data": {
            "text/plain": [
              "<Figure size 864x432 with 0 Axes>"
            ]
          },
          "metadata": {}
        },
        {
          "output_type": "display_data",
          "data": {
            "image/png": "[encoded data removed]",
            "text/plain": [
              "<Figure size 1879.75x360 with 5 Axes>"
            ]
          },
          "metadata": {
            "needs_background": "light"
          }
        }
      ]
    },
    {
      "cell_type": "code",
      "source": [
        "train= train[train['Duration_min'] > 5]"
      ],
      "metadata": {
        "id": "JzaV77V53JRu"
      },
      "execution_count": 40,
      "outputs": []
    },
    {
      "cell_type": "code",
      "source": [
        "def ConvertFlightTime(duration):\n",
        "  time = duration.split(':')\n",
        "  total_tm = 0\n",
        "  total_tm = (int(time[0]) * 60) + int(time[1])\n",
        "  return total_tm"
      ],
      "metadata": {
        "id": "7-npn0N2Cf61"
      },
      "execution_count": 41,
      "outputs": []
    },
    {
      "cell_type": "code",
      "source": [
        "train['Dep_Time_min'] = train['Dep_Time'].apply(ConvertFlightTime)\n",
        "test['Dep_Time_min'] = test['Dep_Time'].apply(ConvertFlightTime)"
      ],
      "metadata": {
        "id": "DcoecicMCO6G",
        "colab": {
          "base_uri": "https://localhost:8080/"
        },
        "outputId": "14ee7dce-ecda-4968-d773-05868adc4644"
      },
      "execution_count": 42,
      "outputs": [
        {
          "output_type": "stream",
          "name": "stderr",
          "text": [
            "/usr/local/lib/python3.7/dist-packages/ipykernel_launcher.py:1: SettingWithCopyWarning: \n",
            "A value is trying to be set on a copy of a slice from a DataFrame.\n",
            "Try using .loc[row_indexer,col_indexer] = value instead\n",
            "\n",
            "See the caveats in the documentation: https://pandas.pydata.org/pandas-docs/stable/user_guide/indexing.html#returning-a-view-versus-a-copy\n",
            "  \"\"\"Entry point for launching an IPython kernel.\n"
          ]
        }
      ]
    },
    {
      "cell_type": "code",
      "source": [
        "train['Arrival_Time_min'] = train['Dep_Time_min'] + train['Duration_min']\n",
        "test['Arrival_Time_min'] =  test['Dep_Time_min'] + test['Duration_min']"
      ],
      "metadata": {
        "id": "N4X4FVd0DVli",
        "colab": {
          "base_uri": "https://localhost:8080/"
        },
        "outputId": "4220f045-637e-44b7-c9a5-428951b84be1"
      },
      "execution_count": 43,
      "outputs": [
        {
          "output_type": "stream",
          "name": "stderr",
          "text": [
            "/usr/local/lib/python3.7/dist-packages/ipykernel_launcher.py:1: SettingWithCopyWarning: \n",
            "A value is trying to be set on a copy of a slice from a DataFrame.\n",
            "Try using .loc[row_indexer,col_indexer] = value instead\n",
            "\n",
            "See the caveats in the documentation: https://pandas.pydata.org/pandas-docs/stable/user_guide/indexing.html#returning-a-view-versus-a-copy\n",
            "  \"\"\"Entry point for launching an IPython kernel.\n"
          ]
        }
      ]
    },
    {
      "cell_type": "markdown",
      "source": [
        "Outliers"
      ],
      "metadata": {
        "id": "U3UlBKlsayuR"
      }
    },
    {
      "cell_type": "code",
      "source": [
        "train = train[train['Price'] < 30000]"
      ],
      "metadata": {
        "id": "uCVXvzmSI90T"
      },
      "execution_count": 44,
      "outputs": []
    },
    {
      "cell_type": "code",
      "source": [
        "train = train[train['Duration_min'] < 2500] "
      ],
      "metadata": {
        "id": "hDin_XMRIwZV"
      },
      "execution_count": 45,
      "outputs": []
    },
    {
      "cell_type": "markdown",
      "metadata": {
        "id": "gBzYaJwRUoWK"
      },
      "source": [
        "Binning"
      ]
    },
    {
      "cell_type": "code",
      "metadata": {
        "id": "ZHW9fdSwUnPW"
      },
      "source": [
        "stops =  {'non-stop':1,'1 stop':2,'2 stops':3,'3 stops':4,'4 stops':5}\n",
        "train['Total_Stops'] = train['Total_Stops'].map(stops)\n",
        "test['Total_Stops'] = test['Total_Stops'].map(stops)"
      ],
      "execution_count": 46,
      "outputs": []
    },
    {
      "cell_type": "code",
      "metadata": {
        "id": "PpkXrGtxk5cQ"
      },
      "source": [
        "from sklearn import preprocessing\n",
        " \n",
        "# label_encoder object knows how to understand word labels.\n",
        "label_encoder = preprocessing.LabelEncoder()"
      ],
      "execution_count": 47,
      "outputs": []
    },
    {
      "cell_type": "code",
      "source": [
        "train['Additional_Info'] = train['Additional_Info'].str.replace('No info','No Info')\n",
        "test['Additional_Info'] =  test['Additional_Info'].str.replace('No info','No Info')\n",
        "\n",
        "train['Additional_Info']= label_encoder.fit_transform(train['Additional_Info'])\n",
        "test['Additional_Info']= label_encoder.fit_transform(test['Additional_Info'])"
      ],
      "metadata": {
        "id": "5NVX7IKeFezC"
      },
      "execution_count": 48,
      "outputs": []
    },
    {
      "cell_type": "code",
      "source": [
        "train['Airline'] = np.where(train['Airline']=='Vistara Premium economy', 'Vistara', train['Airline'])\n",
        "train['Airline'] = np.where(train['Airline']=='Jet Airways Business', 'Jet Airways', train['Airline'])\n",
        "train['Airline'] = np.where(train['Airline']=='Multiple carriers Premium economy', 'Multiple carriers', train['Airline'])\n",
        "\n",
        "test['Airline'] = np.where(test['Airline']=='Vistara Premium economy', 'Vistara', test['Airline'])\n",
        "test['Airline'] = np.where(test['Airline']=='Jet Airways Business', 'Jet Airways', test['Airline'])\n",
        "test['Airline'] = np.where(test['Airline']=='Multiple carriers Premium economy', 'Multiple carriers', test['Airline'])"
      ],
      "metadata": {
        "id": "eJyG3OWfVzWn"
      },
      "execution_count": 49,
      "outputs": []
    },
    {
      "cell_type": "code",
      "source": [
        "train['Airline']= label_encoder.fit_transform(train['Airline'])\n",
        "test['Airline']= label_encoder.fit_transform(test['Airline'])"
      ],
      "metadata": {
        "id": "Bg1J5aQRXpzi"
      },
      "execution_count": 50,
      "outputs": []
    },
    {
      "cell_type": "code",
      "source": [
        "train['Source']= label_encoder.fit_transform(train['Source'])\n",
        "test['Source']= label_encoder.fit_transform(test['Source'])"
      ],
      "metadata": {
        "id": "MB4Yuj2jXprP"
      },
      "execution_count": 51,
      "outputs": []
    },
    {
      "cell_type": "code",
      "source": [
        "train['Destination']= label_encoder.fit_transform(train['Destination'])\n",
        "test['Destination']= label_encoder.fit_transform(test['Destination'])"
      ],
      "metadata": {
        "id": "HnwJ8zkIXpaR"
      },
      "execution_count": 52,
      "outputs": []
    },
    {
      "cell_type": "code",
      "metadata": {
        "id": "DWDBRkg9CHIg"
      },
      "source": [
        "from sklearn.preprocessing import OneHotEncoder\n",
        "# data is a Pandas DataFrame\n",
        "\n",
        "jobs_encoder = OneHotEncoder()\n",
        "#train = pd.get_dummies(train,prefix=['Source'], columns = ['Source'])\n",
        "#test = pd.get_dummies(test,prefix=['Source'], columns = ['Source'])\n",
        "\n",
        "#train = pd.get_dummies(train,prefix=['Destination'], columns = ['Destination'])\n",
        "#test = pd.get_dummies(test,prefix=['Destination'], columns = ['Destination'])"
      ],
      "execution_count": 53,
      "outputs": []
    },
    {
      "cell_type": "code",
      "source": [
        "train = train.drop(['Date_of_Journey','Route','Dep_Time','Arrival_Time','Duration'],axis=1)\n",
        "test = test.drop(['Date_of_Journey','Route','Dep_Time','Arrival_Time','Duration'],axis=1)"
      ],
      "metadata": {
        "id": "F6_iKZCYF_0i"
      },
      "execution_count": 54,
      "outputs": []
    },
    {
      "cell_type": "code",
      "source": [
        "train['Dep_Time_min']=train['Dep_Time_min']/100\n",
        "test['Dep_Time_min']=test['Dep_Time_min']/100\n",
        "\n",
        "train['Arrival_Time_min']=train['Arrival_Time_min']/100\n",
        "test['Arrival_Time_min']=test['Arrival_Time_min']/100\n",
        "\n",
        "train['Duration_min']=train['Duration_min']/100\n",
        "test['Duration_min']=test['Duration_min']/100"
      ],
      "metadata": {
        "id": "r_VgQbJ8KOic"
      },
      "execution_count": 55,
      "outputs": []
    },
    {
      "cell_type": "code",
      "source": [
        "train.head(5)"
      ],
      "metadata": {
        "colab": {
          "base_uri": "https://localhost:8080/",
          "height": 206
        },
        "id": "9T0M3T7NGR1Q",
        "outputId": "6db6ad28-634f-4e59-f2da-2fb5a83fcf63"
      },
      "execution_count": 56,
      "outputs": [
        {
          "output_type": "execute_result",
          "data": {
            "text/html": [
              "\n",
              "  <div id=\"df-07144fc6-4c2e-48f0-b261-2fa3f139686e\">\n",
              "    <div class=\"colab-df-container\">\n",
              "      <div>\n",
              "<style scoped>\n",
              "    .dataframe tbody tr th:only-of-type {\n",
              "        vertical-align: middle;\n",
              "    }\n",
              "\n",
              "    .dataframe tbody tr th {\n",
              "        vertical-align: top;\n",
              "    }\n",
              "\n",
              "    .dataframe thead th {\n",
              "        text-align: right;\n",
              "    }\n",
              "</style>\n",
              "<table border=\"1\" class=\"dataframe\">\n",
              "  <thead>\n",
              "    <tr style=\"text-align: right;\">\n",
              "      <th></th>\n",
              "      <th>Airline</th>\n",
              "      <th>Source</th>\n",
              "      <th>Destination</th>\n",
              "      <th>Total_Stops</th>\n",
              "      <th>Additional_Info</th>\n",
              "      <th>Price</th>\n",
              "      <th>weekday_name</th>\n",
              "      <th>month</th>\n",
              "      <th>day</th>\n",
              "      <th>Duration_min</th>\n",
              "      <th>Dep_Time_min</th>\n",
              "      <th>Arrival_Time_min</th>\n",
              "    </tr>\n",
              "  </thead>\n",
              "  <tbody>\n",
              "    <tr>\n",
              "      <th>0</th>\n",
              "      <td>3</td>\n",
              "      <td>0</td>\n",
              "      <td>5</td>\n",
              "      <td>1</td>\n",
              "      <td>6</td>\n",
              "      <td>3897</td>\n",
              "      <td>2</td>\n",
              "      <td>3</td>\n",
              "      <td>24</td>\n",
              "      <td>1.70</td>\n",
              "      <td>13.40</td>\n",
              "      <td>15.10</td>\n",
              "    </tr>\n",
              "    <tr>\n",
              "      <th>1</th>\n",
              "      <td>1</td>\n",
              "      <td>3</td>\n",
              "      <td>0</td>\n",
              "      <td>3</td>\n",
              "      <td>6</td>\n",
              "      <td>7662</td>\n",
              "      <td>2</td>\n",
              "      <td>1</td>\n",
              "      <td>5</td>\n",
              "      <td>4.45</td>\n",
              "      <td>3.50</td>\n",
              "      <td>7.95</td>\n",
              "    </tr>\n",
              "    <tr>\n",
              "      <th>2</th>\n",
              "      <td>4</td>\n",
              "      <td>2</td>\n",
              "      <td>1</td>\n",
              "      <td>3</td>\n",
              "      <td>6</td>\n",
              "      <td>13882</td>\n",
              "      <td>1</td>\n",
              "      <td>9</td>\n",
              "      <td>6</td>\n",
              "      <td>11.40</td>\n",
              "      <td>5.65</td>\n",
              "      <td>17.05</td>\n",
              "    </tr>\n",
              "    <tr>\n",
              "      <th>3</th>\n",
              "      <td>3</td>\n",
              "      <td>3</td>\n",
              "      <td>0</td>\n",
              "      <td>2</td>\n",
              "      <td>6</td>\n",
              "      <td>6218</td>\n",
              "      <td>1</td>\n",
              "      <td>12</td>\n",
              "      <td>5</td>\n",
              "      <td>3.25</td>\n",
              "      <td>10.85</td>\n",
              "      <td>14.10</td>\n",
              "    </tr>\n",
              "    <tr>\n",
              "      <th>4</th>\n",
              "      <td>3</td>\n",
              "      <td>0</td>\n",
              "      <td>5</td>\n",
              "      <td>2</td>\n",
              "      <td>6</td>\n",
              "      <td>13302</td>\n",
              "      <td>1</td>\n",
              "      <td>1</td>\n",
              "      <td>3</td>\n",
              "      <td>2.85</td>\n",
              "      <td>10.10</td>\n",
              "      <td>12.95</td>\n",
              "    </tr>\n",
              "  </tbody>\n",
              "</table>\n",
              "</div>\n",
              "      <button class=\"colab-df-convert\" onclick=\"convertToInteractive('df-07144fc6-4c2e-48f0-b261-2fa3f139686e')\"\n",
              "              title=\"Convert this dataframe to an interactive table.\"\n",
              "              style=\"display:none;\">\n",
              "        \n",
              "  <svg xmlns=\"http://www.w3.org/2000/svg\" height=\"24px\"viewBox=\"0 0 24 24\"\n",
              "       width=\"24px\">\n",
              "    <path d=\"M0 0h24v24H0V0z\" fill=\"none\"/>\n",
              "    <path d=\"M18.56 5.44l.94 2.06.94-2.06 2.06-.94-2.06-.94-.94-2.06-.94 2.06-2.06.94zm-11 1L8.5 8.5l.94-2.06 2.06-.94-2.06-.94L8.5 2.5l-.94 2.06-2.06.94zm10 10l.94 2.06.94-2.06 2.06-.94-2.06-.94-.94-2.06-.94 2.06-2.06.94z\"/><path d=\"M17.41 7.96l-1.37-1.37c-.4-.4-.92-.59-1.43-.59-.52 0-1.04.2-1.43.59L10.3 9.45l-7.72 7.72c-.78.78-.78 2.05 0 2.83L4 21.41c.39.39.9.59 1.41.59.51 0 1.02-.2 1.41-.59l7.78-7.78 2.81-2.81c.8-.78.8-2.07 0-2.86zM5.41 20L4 18.59l7.72-7.72 1.47 1.35L5.41 20z\"/>\n",
              "  </svg>\n",
              "      </button>\n",
              "      \n",
              "  <style>\n",
              "    .colab-df-container {\n",
              "      display:flex;\n",
              "      flex-wrap:wrap;\n",
              "      gap: 12px;\n",
              "    }\n",
              "\n",
              "    .colab-df-convert {\n",
              "      background-color: #E8F0FE;\n",
              "      border: none;\n",
              "      border-radius: 50%;\n",
              "      cursor: pointer;\n",
              "      display: none;\n",
              "      fill: #1967D2;\n",
              "      height: 32px;\n",
              "      padding: 0 0 0 0;\n",
              "      width: 32px;\n",
              "    }\n",
              "\n",
              "    .colab-df-convert:hover {\n",
              "      background-color: #E2EBFA;\n",
              "      box-shadow: 0px 1px 2px rgba(60, 64, 67, 0.3), 0px 1px 3px 1px rgba(60, 64, 67, 0.15);\n",
              "      fill: #174EA6;\n",
              "    }\n",
              "\n",
              "    [theme=dark] .colab-df-convert {\n",
              "      background-color: #3B4455;\n",
              "      fill: #D2E3FC;\n",
              "    }\n",
              "\n",
              "    [theme=dark] .colab-df-convert:hover {\n",
              "      background-color: #434B5C;\n",
              "      box-shadow: 0px 1px 3px 1px rgba(0, 0, 0, 0.15);\n",
              "      filter: drop-shadow(0px 1px 2px rgba(0, 0, 0, 0.3));\n",
              "      fill: #FFFFFF;\n",
              "    }\n",
              "  </style>\n",
              "\n",
              "      <script>\n",
              "        const buttonEl =\n",
              "          document.querySelector('#df-07144fc6-4c2e-48f0-b261-2fa3f139686e button.colab-df-convert');\n",
              "        buttonEl.style.display =\n",
              "          google.colab.kernel.accessAllowed ? 'block' : 'none';\n",
              "\n",
              "        async function convertToInteractive(key) {\n",
              "          const element = document.querySelector('#df-07144fc6-4c2e-48f0-b261-2fa3f139686e');\n",
              "          const dataTable =\n",
              "            await google.colab.kernel.invokeFunction('convertToInteractive',\n",
              "                                                     [key], {});\n",
              "          if (!dataTable) return;\n",
              "\n",
              "          const docLinkHtml = 'Like what you see? Visit the ' +\n",
              "            '<a target=\"_blank\" href=https://colab.research.google.com/notebooks/data_table.ipynb>data table notebook</a>'\n",
              "            + ' to learn more about interactive tables.';\n",
              "          element.innerHTML = '';\n",
              "          dataTable['output_type'] = 'display_data';\n",
              "          await google.colab.output.renderOutput(dataTable, element);\n",
              "          const docLink = document.createElement('div');\n",
              "          docLink.innerHTML = docLinkHtml;\n",
              "          element.appendChild(docLink);\n",
              "        }\n",
              "      </script>\n",
              "    </div>\n",
              "  </div>\n",
              "  "
            ],
            "text/plain": [
              "   Airline  Source  Destination  ...  Duration_min  Dep_Time_min  Arrival_Time_min\n",
              "0        3       0            5  ...          1.70         13.40             15.10\n",
              "1        1       3            0  ...          4.45          3.50              7.95\n",
              "2        4       2            1  ...         11.40          5.65             17.05\n",
              "3        3       3            0  ...          3.25         10.85             14.10\n",
              "4        3       0            5  ...          2.85         10.10             12.95\n",
              "\n",
              "[5 rows x 12 columns]"
            ]
          },
          "metadata": {},
          "execution_count": 56
        }
      ]
    },
    {
      "cell_type": "markdown",
      "source": [
        "# CatBoost"
      ],
      "metadata": {
        "id": "HgefG0W1bnXx"
      }
    },
    {
      "cell_type": "code",
      "source": [
        "X_train, Y_train =  train.drop('Price', axis = 1) , train['Price']\n",
        "X_test = test"
      ],
      "metadata": {
        "id": "u1NSd42ub0mr"
      },
      "execution_count": 57,
      "outputs": []
    },
    {
      "cell_type": "code",
      "source": [
        "from sklearn.model_selection import GridSearchCV\n",
        "from catboost import CatBoostRegressor\n",
        "\n",
        "#Instantiate CatBoostClassifier\n",
        "cbr = CatBoostRegressor()\n",
        "\n",
        "#create the grid\n",
        "grid = {'max_depth': [3,4,5,6],'n_estimators':[100, 200, 300],'learning_rate': [0.05,0.1, 0.2,0.3,0.4,0.5]}\n",
        "\n",
        "#Instantiate GridSearchCV\n",
        "gscv = GridSearchCV (estimator = cbr, param_grid = grid, scoring ='accuracy', cv = 5)\n",
        "\n",
        "#fit the model\n",
        "gscv.fit(X_train, Y_train)\n",
        "\n",
        "#returns the estimator with the best performance\n",
        "print(gscv.best_estimator_)\n",
        "\n",
        "#returns the best score\n",
        "print(gscv.best_score_)\n",
        "\n",
        "#returns the best parameters\n",
        "print(gscv.best_params_)"
      ],
      "metadata": {
        "id": "aGge5CcNboyO"
      },
      "execution_count": null,
      "outputs": []
    },
    {
      "cell_type": "code",
      "source": [
        "from catboost import CatBoostRegressor\n",
        "\n",
        "#Instantiate CatBoostClassifier\n",
        "cbr = CatBoostRegressor()\n",
        "\n",
        "model=CatBoostRegressor(n_estimators=100, depth=3, learning_rate=0.05, loss_function='RMSE')\n",
        "\n",
        "# Fit model\n",
        "model.fit(X_train, Y_train)\n",
        "# Get predictions\n",
        "y_pred = model.predict(X_test)\n",
        "\n",
        "\n",
        "#Create a  DataFrame with the passengers ids and our prediction\n",
        "submission = pd.DataFrame({'Price':y_pred})\n",
        "\n",
        "#Visualize the first 5 rows\n",
        "submission.head()\n",
        "\n",
        "#Convert DataFrame to a csv file that can be uploaded\n",
        "#This is saved in the same directory as your notebook\n",
        "filename = 'FlightPrice.csv'\n",
        "\n",
        "submission.to_csv(filename,index=False)\n",
        "\n",
        "print('Saved file: ' + filename)"
      ],
      "metadata": {
        "colab": {
          "base_uri": "https://localhost:8080/"
        },
        "id": "laK5c_IZdD8t",
        "outputId": "6b741872-a1de-4cd4-cf9b-03e837e50f10"
      },
      "execution_count": null,
      "outputs": [
        {
          "output_type": "stream",
          "name": "stderr",
          "text": [
            "Custom logger is already specified. Specify more than one logger at same time is not thread safe."
          ]
        },
        {
          "output_type": "stream",
          "name": "stdout",
          "text": [
            "0:\tlearn: 4165.2745798\ttotal: 2.86ms\tremaining: 283ms\n",
            "1:\tlearn: 4050.1177593\ttotal: 4.61ms\tremaining: 226ms\n",
            "2:\tlearn: 3950.0404519\ttotal: 6.3ms\tremaining: 204ms\n",
            "3:\tlearn: 3847.8733929\ttotal: 8.9ms\tremaining: 214ms\n",
            "4:\tlearn: 3755.3075592\ttotal: 11ms\tremaining: 209ms\n",
            "5:\tlearn: 3669.7322774\ttotal: 13.1ms\tremaining: 206ms\n",
            "6:\tlearn: 3588.9545394\ttotal: 15.5ms\tremaining: 207ms\n",
            "7:\tlearn: 3510.3825391\ttotal: 17.5ms\tremaining: 201ms\n",
            "8:\tlearn: 3438.6327638\ttotal: 19.2ms\tremaining: 194ms\n",
            "9:\tlearn: 3372.0502874\ttotal: 21.1ms\tremaining: 190ms\n",
            "10:\tlearn: 3308.2881810\ttotal: 23.3ms\tremaining: 188ms\n",
            "11:\tlearn: 3248.4328913\ttotal: 25.7ms\tremaining: 189ms\n",
            "12:\tlearn: 3193.6044697\ttotal: 27.6ms\tremaining: 185ms\n",
            "13:\tlearn: 3143.6208747\ttotal: 29.5ms\tremaining: 181ms\n",
            "14:\tlearn: 3095.7813800\ttotal: 31.3ms\tremaining: 177ms\n",
            "15:\tlearn: 3057.3214027\ttotal: 33.1ms\tremaining: 174ms\n",
            "16:\tlearn: 3017.3109172\ttotal: 35ms\tremaining: 171ms\n",
            "17:\tlearn: 2980.1195303\ttotal: 39.5ms\tremaining: 180ms\n",
            "18:\tlearn: 2945.2576322\ttotal: 41.8ms\tremaining: 178ms\n",
            "19:\tlearn: 2909.8771092\ttotal: 43.9ms\tremaining: 175ms\n",
            "20:\tlearn: 2880.0112662\ttotal: 46.1ms\tremaining: 173ms\n",
            "21:\tlearn: 2848.6304463\ttotal: 47.8ms\tremaining: 169ms\n",
            "22:\tlearn: 2820.0050160\ttotal: 49.8ms\tremaining: 167ms\n",
            "23:\tlearn: 2793.9303813\ttotal: 51.8ms\tremaining: 164ms\n",
            "24:\tlearn: 2768.9765740\ttotal: 53.8ms\tremaining: 161ms\n",
            "25:\tlearn: 2745.1078320\ttotal: 55.7ms\tremaining: 159ms\n",
            "26:\tlearn: 2724.4606736\ttotal: 57.6ms\tremaining: 156ms\n",
            "27:\tlearn: 2703.8261589\ttotal: 59.5ms\tremaining: 153ms\n",
            "28:\tlearn: 2683.6652163\ttotal: 61.3ms\tremaining: 150ms\n",
            "29:\tlearn: 2660.9632874\ttotal: 63.2ms\tremaining: 147ms\n",
            "30:\tlearn: 2643.8403210\ttotal: 65ms\tremaining: 145ms\n",
            "31:\tlearn: 2623.8394574\ttotal: 66.8ms\tremaining: 142ms\n",
            "32:\tlearn: 2607.1138965\ttotal: 68.6ms\tremaining: 139ms\n",
            "33:\tlearn: 2590.1117762\ttotal: 70.8ms\tremaining: 137ms\n",
            "34:\tlearn: 2573.3079689\ttotal: 72.6ms\tremaining: 135ms\n",
            "35:\tlearn: 2559.8372001\ttotal: 74.4ms\tremaining: 132ms\n",
            "36:\tlearn: 2536.6177881\ttotal: 76.2ms\tremaining: 130ms\n",
            "37:\tlearn: 2522.4436674\ttotal: 77.9ms\tremaining: 127ms\n",
            "38:\tlearn: 2508.3823748\ttotal: 79.7ms\tremaining: 125ms\n",
            "39:\tlearn: 2495.1905900\ttotal: 81.5ms\tremaining: 122ms\n",
            "40:\tlearn: 2479.1658057\ttotal: 83.3ms\tremaining: 120ms\n",
            "41:\tlearn: 2466.2161200\ttotal: 85.1ms\tremaining: 118ms\n",
            "42:\tlearn: 2447.5384125\ttotal: 86.9ms\tremaining: 115ms\n",
            "43:\tlearn: 2438.3190269\ttotal: 88.7ms\tremaining: 113ms\n",
            "44:\tlearn: 2427.1841893\ttotal: 90.5ms\tremaining: 111ms\n",
            "45:\tlearn: 2413.7146523\ttotal: 92.3ms\tremaining: 108ms\n",
            "46:\tlearn: 2401.4902002\ttotal: 94ms\tremaining: 106ms\n",
            "47:\tlearn: 2390.7552901\ttotal: 95.9ms\tremaining: 104ms\n",
            "48:\tlearn: 2380.9831435\ttotal: 97.6ms\tremaining: 102ms\n",
            "49:\tlearn: 2371.3489703\ttotal: 99.4ms\tremaining: 99.4ms\n",
            "50:\tlearn: 2362.8089799\ttotal: 101ms\tremaining: 97.2ms\n",
            "51:\tlearn: 2347.2746347\ttotal: 103ms\tremaining: 95.1ms\n",
            "52:\tlearn: 2336.8658958\ttotal: 105ms\tremaining: 93ms\n",
            "53:\tlearn: 2327.4293962\ttotal: 107ms\tremaining: 90.8ms\n",
            "54:\tlearn: 2314.5866806\ttotal: 109ms\tremaining: 88.9ms\n",
            "55:\tlearn: 2308.2650599\ttotal: 111ms\tremaining: 86.8ms\n",
            "56:\tlearn: 2289.8143982\ttotal: 112ms\tremaining: 84.8ms\n",
            "57:\tlearn: 2273.0302881\ttotal: 114ms\tremaining: 82.7ms\n",
            "58:\tlearn: 2257.7720398\ttotal: 116ms\tremaining: 80.7ms\n",
            "59:\tlearn: 2249.5164401\ttotal: 118ms\tremaining: 78.6ms\n",
            "60:\tlearn: 2243.1359803\ttotal: 120ms\tremaining: 76.5ms\n",
            "61:\tlearn: 2238.0738046\ttotal: 122ms\tremaining: 74.5ms\n",
            "62:\tlearn: 2224.5313529\ttotal: 123ms\tremaining: 72.5ms\n",
            "63:\tlearn: 2220.4039331\ttotal: 125ms\tremaining: 70.4ms\n",
            "64:\tlearn: 2214.0996687\ttotal: 127ms\tremaining: 68.4ms\n",
            "65:\tlearn: 2208.9177455\ttotal: 129ms\tremaining: 66.4ms\n",
            "66:\tlearn: 2204.3836169\ttotal: 131ms\tremaining: 64.3ms\n",
            "67:\tlearn: 2197.1999696\ttotal: 132ms\tremaining: 62.3ms\n",
            "68:\tlearn: 2190.5138393\ttotal: 134ms\tremaining: 60.3ms\n",
            "69:\tlearn: 2187.5408327\ttotal: 136ms\tremaining: 58.3ms\n",
            "70:\tlearn: 2180.6958408\ttotal: 138ms\tremaining: 56.3ms\n",
            "71:\tlearn: 2170.1052769\ttotal: 140ms\tremaining: 54.3ms\n",
            "72:\tlearn: 2164.1602575\ttotal: 141ms\tremaining: 52.3ms\n",
            "73:\tlearn: 2157.6584420\ttotal: 144ms\tremaining: 50.5ms\n",
            "74:\tlearn: 2152.4396694\ttotal: 146ms\tremaining: 48.6ms\n",
            "75:\tlearn: 2149.2560479\ttotal: 148ms\tremaining: 46.6ms\n",
            "76:\tlearn: 2140.1308755\ttotal: 150ms\tremaining: 44.7ms\n",
            "77:\tlearn: 2131.8601218\ttotal: 151ms\tremaining: 42.7ms\n",
            "78:\tlearn: 2128.3447916\ttotal: 153ms\tremaining: 40.7ms\n",
            "79:\tlearn: 2125.2502128\ttotal: 155ms\tremaining: 38.8ms\n",
            "80:\tlearn: 2118.0570203\ttotal: 157ms\tremaining: 36.9ms\n",
            "81:\tlearn: 2113.9316381\ttotal: 159ms\tremaining: 35ms\n",
            "82:\tlearn: 2109.8186706\ttotal: 162ms\tremaining: 33.1ms\n",
            "83:\tlearn: 2106.1463268\ttotal: 164ms\tremaining: 31.2ms\n",
            "84:\tlearn: 2102.1473435\ttotal: 168ms\tremaining: 29.6ms\n",
            "85:\tlearn: 2098.7539192\ttotal: 170ms\tremaining: 27.6ms\n",
            "86:\tlearn: 2092.4517526\ttotal: 172ms\tremaining: 25.7ms\n",
            "87:\tlearn: 2089.2534232\ttotal: 174ms\tremaining: 23.7ms\n",
            "88:\tlearn: 2087.0805890\ttotal: 176ms\tremaining: 21.7ms\n",
            "89:\tlearn: 2084.9067375\ttotal: 178ms\tremaining: 19.7ms\n",
            "90:\tlearn: 2083.0485729\ttotal: 180ms\tremaining: 17.8ms\n",
            "91:\tlearn: 2079.4431460\ttotal: 188ms\tremaining: 16.4ms\n",
            "92:\tlearn: 2075.0124137\ttotal: 190ms\tremaining: 14.3ms\n",
            "93:\tlearn: 2073.4193334\ttotal: 192ms\tremaining: 12.3ms\n",
            "94:\tlearn: 2069.5427161\ttotal: 195ms\tremaining: 10.2ms\n",
            "95:\tlearn: 2063.9808879\ttotal: 197ms\tremaining: 8.2ms\n",
            "96:\tlearn: 2061.7496241\ttotal: 199ms\tremaining: 6.15ms\n",
            "97:\tlearn: 2059.0554499\ttotal: 201ms\tremaining: 4.09ms\n",
            "98:\tlearn: 2057.3555432\ttotal: 202ms\tremaining: 2.04ms\n",
            "99:\tlearn: 2054.9677859\ttotal: 204ms\tremaining: 0us\n",
            "Saved file: HousePrice.csv\n"
          ]
        }
      ]
    },
    {
      "cell_type": "markdown",
      "metadata": {
        "id": "ZTni14eLqGbI"
      },
      "source": [
        "# Model parameter fine tuning"
      ]
    },
    {
      "cell_type": "code",
      "metadata": {
        "id": "caE_etG7090t"
      },
      "source": [
        "from sklearn.model_selection import train_test_split\n",
        "X_train, X_test, Y_train, Y_test = train_test_split(train.drop('Price', axis = 1) , train['Price'], test_size = 0.3, random_state = 0)"
      ],
      "execution_count": 59,
      "outputs": []
    },
    {
      "cell_type": "code",
      "source": [
        "X_train.head(5)"
      ],
      "metadata": {
        "colab": {
          "base_uri": "https://localhost:8080/",
          "height": 206
        },
        "id": "yPRsnSGUUyCe",
        "outputId": "7f05c949-f580-459d-98f5-5a0552b17b44"
      },
      "execution_count": 60,
      "outputs": [
        {
          "output_type": "execute_result",
          "data": {
            "text/html": [
              "\n",
              "  <div id=\"df-8cc238c4-21af-4ba7-9c80-845469c14611\">\n",
              "    <div class=\"colab-df-container\">\n",
              "      <div>\n",
              "<style scoped>\n",
              "    .dataframe tbody tr th:only-of-type {\n",
              "        vertical-align: middle;\n",
              "    }\n",
              "\n",
              "    .dataframe tbody tr th {\n",
              "        vertical-align: top;\n",
              "    }\n",
              "\n",
              "    .dataframe thead th {\n",
              "        text-align: right;\n",
              "    }\n",
              "</style>\n",
              "<table border=\"1\" class=\"dataframe\">\n",
              "  <thead>\n",
              "    <tr style=\"text-align: right;\">\n",
              "      <th></th>\n",
              "      <th>Airline</th>\n",
              "      <th>Source</th>\n",
              "      <th>Destination</th>\n",
              "      <th>Total_Stops</th>\n",
              "      <th>Additional_Info</th>\n",
              "      <th>weekday_name</th>\n",
              "      <th>month</th>\n",
              "      <th>day</th>\n",
              "      <th>Duration_min</th>\n",
              "      <th>Dep_Time_min</th>\n",
              "      <th>Arrival_Time_min</th>\n",
              "    </tr>\n",
              "  </thead>\n",
              "  <tbody>\n",
              "    <tr>\n",
              "      <th>8556</th>\n",
              "      <td>5</td>\n",
              "      <td>2</td>\n",
              "      <td>1</td>\n",
              "      <td>2</td>\n",
              "      <td>5</td>\n",
              "      <td>1</td>\n",
              "      <td>6</td>\n",
              "      <td>3</td>\n",
              "      <td>7.55</td>\n",
              "      <td>7.80</td>\n",
              "      <td>15.35</td>\n",
              "    </tr>\n",
              "    <tr>\n",
              "      <th>3510</th>\n",
              "      <td>5</td>\n",
              "      <td>2</td>\n",
              "      <td>1</td>\n",
              "      <td>2</td>\n",
              "      <td>6</td>\n",
              "      <td>1</td>\n",
              "      <td>5</td>\n",
              "      <td>27</td>\n",
              "      <td>7.35</td>\n",
              "      <td>5.25</td>\n",
              "      <td>12.60</td>\n",
              "    </tr>\n",
              "    <tr>\n",
              "      <th>6625</th>\n",
              "      <td>3</td>\n",
              "      <td>3</td>\n",
              "      <td>0</td>\n",
              "      <td>1</td>\n",
              "      <td>6</td>\n",
              "      <td>1</td>\n",
              "      <td>12</td>\n",
              "      <td>4</td>\n",
              "      <td>1.50</td>\n",
              "      <td>8.65</td>\n",
              "      <td>10.15</td>\n",
              "    </tr>\n",
              "    <tr>\n",
              "      <th>9198</th>\n",
              "      <td>1</td>\n",
              "      <td>0</td>\n",
              "      <td>5</td>\n",
              "      <td>3</td>\n",
              "      <td>6</td>\n",
              "      <td>1</td>\n",
              "      <td>3</td>\n",
              "      <td>21</td>\n",
              "      <td>16.25</td>\n",
              "      <td>4.95</td>\n",
              "      <td>21.20</td>\n",
              "    </tr>\n",
              "    <tr>\n",
              "      <th>5518</th>\n",
              "      <td>3</td>\n",
              "      <td>3</td>\n",
              "      <td>0</td>\n",
              "      <td>1</td>\n",
              "      <td>6</td>\n",
              "      <td>1</td>\n",
              "      <td>6</td>\n",
              "      <td>18</td>\n",
              "      <td>1.55</td>\n",
              "      <td>2.80</td>\n",
              "      <td>4.35</td>\n",
              "    </tr>\n",
              "  </tbody>\n",
              "</table>\n",
              "</div>\n",
              "      <button class=\"colab-df-convert\" onclick=\"convertToInteractive('df-8cc238c4-21af-4ba7-9c80-845469c14611')\"\n",
              "              title=\"Convert this dataframe to an interactive table.\"\n",
              "              style=\"display:none;\">\n",
              "        \n",
              "  <svg xmlns=\"http://www.w3.org/2000/svg\" height=\"24px\"viewBox=\"0 0 24 24\"\n",
              "       width=\"24px\">\n",
              "    <path d=\"M0 0h24v24H0V0z\" fill=\"none\"/>\n",
              "    <path d=\"M18.56 5.44l.94 2.06.94-2.06 2.06-.94-2.06-.94-.94-2.06-.94 2.06-2.06.94zm-11 1L8.5 8.5l.94-2.06 2.06-.94-2.06-.94L8.5 2.5l-.94 2.06-2.06.94zm10 10l.94 2.06.94-2.06 2.06-.94-2.06-.94-.94-2.06-.94 2.06-2.06.94z\"/><path d=\"M17.41 7.96l-1.37-1.37c-.4-.4-.92-.59-1.43-.59-.52 0-1.04.2-1.43.59L10.3 9.45l-7.72 7.72c-.78.78-.78 2.05 0 2.83L4 21.41c.39.39.9.59 1.41.59.51 0 1.02-.2 1.41-.59l7.78-7.78 2.81-2.81c.8-.78.8-2.07 0-2.86zM5.41 20L4 18.59l7.72-7.72 1.47 1.35L5.41 20z\"/>\n",
              "  </svg>\n",
              "      </button>\n",
              "      \n",
              "  <style>\n",
              "    .colab-df-container {\n",
              "      display:flex;\n",
              "      flex-wrap:wrap;\n",
              "      gap: 12px;\n",
              "    }\n",
              "\n",
              "    .colab-df-convert {\n",
              "      background-color: #E8F0FE;\n",
              "      border: none;\n",
              "      border-radius: 50%;\n",
              "      cursor: pointer;\n",
              "      display: none;\n",
              "      fill: #1967D2;\n",
              "      height: 32px;\n",
              "      padding: 0 0 0 0;\n",
              "      width: 32px;\n",
              "    }\n",
              "\n",
              "    .colab-df-convert:hover {\n",
              "      background-color: #E2EBFA;\n",
              "      box-shadow: 0px 1px 2px rgba(60, 64, 67, 0.3), 0px 1px 3px 1px rgba(60, 64, 67, 0.15);\n",
              "      fill: #174EA6;\n",
              "    }\n",
              "\n",
              "    [theme=dark] .colab-df-convert {\n",
              "      background-color: #3B4455;\n",
              "      fill: #D2E3FC;\n",
              "    }\n",
              "\n",
              "    [theme=dark] .colab-df-convert:hover {\n",
              "      background-color: #434B5C;\n",
              "      box-shadow: 0px 1px 3px 1px rgba(0, 0, 0, 0.15);\n",
              "      filter: drop-shadow(0px 1px 2px rgba(0, 0, 0, 0.3));\n",
              "      fill: #FFFFFF;\n",
              "    }\n",
              "  </style>\n",
              "\n",
              "      <script>\n",
              "        const buttonEl =\n",
              "          document.querySelector('#df-8cc238c4-21af-4ba7-9c80-845469c14611 button.colab-df-convert');\n",
              "        buttonEl.style.display =\n",
              "          google.colab.kernel.accessAllowed ? 'block' : 'none';\n",
              "\n",
              "        async function convertToInteractive(key) {\n",
              "          const element = document.querySelector('#df-8cc238c4-21af-4ba7-9c80-845469c14611');\n",
              "          const dataTable =\n",
              "            await google.colab.kernel.invokeFunction('convertToInteractive',\n",
              "                                                     [key], {});\n",
              "          if (!dataTable) return;\n",
              "\n",
              "          const docLinkHtml = 'Like what you see? Visit the ' +\n",
              "            '<a target=\"_blank\" href=https://colab.research.google.com/notebooks/data_table.ipynb>data table notebook</a>'\n",
              "            + ' to learn more about interactive tables.';\n",
              "          element.innerHTML = '';\n",
              "          dataTable['output_type'] = 'display_data';\n",
              "          await google.colab.output.renderOutput(dataTable, element);\n",
              "          const docLink = document.createElement('div');\n",
              "          docLink.innerHTML = docLinkHtml;\n",
              "          element.appendChild(docLink);\n",
              "        }\n",
              "      </script>\n",
              "    </div>\n",
              "  </div>\n",
              "  "
            ],
            "text/plain": [
              "      Airline  Source  ...  Dep_Time_min  Arrival_Time_min\n",
              "8556        5       2  ...          7.80             15.35\n",
              "3510        5       2  ...          5.25             12.60\n",
              "6625        3       3  ...          8.65             10.15\n",
              "9198        1       0  ...          4.95             21.20\n",
              "5518        3       3  ...          2.80              4.35\n",
              "\n",
              "[5 rows x 11 columns]"
            ]
          },
          "metadata": {},
          "execution_count": 60
        }
      ]
    },
    {
      "cell_type": "code",
      "source": [
        "from sklearn import datasets, linear_model\n",
        "\n",
        "\n",
        "# Create linear regression object\n",
        "regr = linear_model.LinearRegression()\n",
        "\n",
        "# Train the model using the training sets\n",
        "regr.fit(X_train, Y_train)\n",
        "\n",
        "# Make predictions using the testing set\n",
        "y_pred = regr.predict(X_test)"
      ],
      "metadata": {
        "id": "bsRG1xfWUB4p"
      },
      "execution_count": 61,
      "outputs": []
    },
    {
      "cell_type": "code",
      "metadata": {
        "colab": {
          "base_uri": "https://localhost:8080/"
        },
        "id": "peR3aD3nu9xn",
        "outputId": "95bd3292-df1f-49f7-c177-79e173b392e8"
      },
      "source": [
        "acc_reg = round(regr.score(X_train, Y_train) * 100, 2)\n",
        "acc_reg"
      ],
      "execution_count": 62,
      "outputs": [
        {
          "output_type": "execute_result",
          "data": {
            "text/plain": [
              "48.38"
            ]
          },
          "metadata": {},
          "execution_count": 62
        }
      ]
    },
    {
      "cell_type": "code",
      "source": [
        "from sklearn.linear_model import BayesianRidge\n",
        "\n",
        "BayReg = linear_model.BayesianRidge(n_iter=500,alpha_1=0.001)\n",
        "BayReg.fit(X_train, Y_train)\n",
        "\n",
        "y_pred_b = BayReg.predict(X_test)\n",
        "\n",
        "acc_BayReg = round(BayReg.score(X_train, Y_train) * 100, 2)\n",
        "acc_BayReg"
      ],
      "metadata": {
        "colab": {
          "base_uri": "https://localhost:8080/"
        },
        "id": "-dxpgwdXVivd",
        "outputId": "53b5bcb2-f52f-4799-fd14-e7f6d40045e7"
      },
      "execution_count": 63,
      "outputs": [
        {
          "output_type": "execute_result",
          "data": {
            "text/plain": [
              "48.41"
            ]
          },
          "metadata": {},
          "execution_count": 63
        }
      ]
    },
    {
      "cell_type": "code",
      "source": [
        "import xgboost as xgb\n",
        "from xgboost import plot_tree\n",
        "xgb_model = xgb.XGBRegressor(subsample = 0.2,  learning_rate=0.01, max_depth=4, n_estimators=700).fit(X_train, Y_train)\n",
        "print(\"Performance on train data:\", xgb_model.score(X_train, Y_train))"
      ],
      "metadata": {
        "colab": {
          "base_uri": "https://localhost:8080/"
        },
        "id": "e6vVifXRVqaw",
        "outputId": "165d9a3c-2616-4c9d-94dd-bfe7fadfb881"
      },
      "execution_count": 64,
      "outputs": [
        {
          "output_type": "stream",
          "name": "stdout",
          "text": [
            "[09:03:30] WARNING: /workspace/src/objective/regression_obj.cu:152: reg:linear is now deprecated in favor of reg:squarederror.\n",
            "Performance on train data: 0.8631401336824541\n"
          ]
        }
      ]
    },
    {
      "cell_type": "markdown",
      "source": [
        "## XGB Hyperparameter Tuning"
      ],
      "metadata": {
        "id": "df71szqCtOrF"
      }
    },
    {
      "cell_type": "markdown",
      "metadata": {
        "id": "B61NYTLX2GdB"
      },
      "source": [
        "# Model Submission"
      ]
    },
    {
      "cell_type": "code",
      "metadata": {
        "id": "cgX-G3A02NDA"
      },
      "source": [
        "X_train, Y_train =  train.drop('Price', axis = 1) , train['Price']\n",
        "X_test = test"
      ],
      "execution_count": 65,
      "outputs": []
    },
    {
      "cell_type": "code",
      "metadata": {
        "colab": {
          "base_uri": "https://localhost:8080/"
        },
        "id": "AzdFiXtNUL6X",
        "outputId": "0dea590e-08ac-47a6-f931-55071d2eaefc"
      },
      "source": [
        "import xgboost as xgb\n",
        "from xgboost import plot_tree\n",
        "xgb_model = xgb.XGBRegressor(subsample = 0.7,min_child_weight=8,  learning_rate=0.2, max_depth=20, n_estimators=200).fit(X_train, Y_train)\n",
        "print(\"Performance on train data:\", xgb_model.score(X_train, Y_train))"
      ],
      "execution_count": 66,
      "outputs": [
        {
          "output_type": "stream",
          "name": "stdout",
          "text": [
            "[09:03:47] WARNING: /workspace/src/objective/regression_obj.cu:152: reg:linear is now deprecated in favor of reg:squarederror.\n",
            "Performance on train data: 0.9927968327792057\n"
          ]
        }
      ]
    },
    {
      "cell_type": "code",
      "metadata": {
        "id": "vIuL_pDJUP_e"
      },
      "source": [
        "y_pred = xgb_model.predict(X_test)"
      ],
      "execution_count": 67,
      "outputs": []
    },
    {
      "cell_type": "code",
      "source": [
        "import time\n",
        "timestr = time.strftime(\"%Y%m%d-%H%M%S\")"
      ],
      "metadata": {
        "id": "RsgUq4TMs0lu"
      },
      "execution_count": 68,
      "outputs": []
    },
    {
      "cell_type": "code",
      "source": [
        "#Create a  DataFrame with the passengers ids and our prediction\n",
        "submission = pd.DataFrame({'Price':y_pred})\n",
        "\n",
        "#Visualize the first 5 rows\n",
        "submission.head()\n",
        "\n",
        "#Convert DataFrame to a csv file that can be uploaded\n",
        "#This is saved in the same directory as your notebook\n",
        "filename = 'FlightTicketPrice'+timestr+ '.csv'\n",
        "\n",
        "submission.to_csv(filename,index=False)\n",
        "\n",
        "print('Saved file: ' + filename)"
      ],
      "metadata": {
        "colab": {
          "base_uri": "https://localhost:8080/"
        },
        "id": "2uv4YLzZWdyM",
        "outputId": "945f18c6-226e-45de-ba0a-3ba60badd108"
      },
      "execution_count": 69,
      "outputs": [
        {
          "output_type": "stream",
          "name": "stdout",
          "text": [
            "Saved file: FlightTicketPrice20220223-090404.csv\n"
          ]
        }
      ]
    }
  ]
}